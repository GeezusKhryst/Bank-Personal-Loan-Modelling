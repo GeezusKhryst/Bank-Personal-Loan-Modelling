{
 "cells": [
  {
   "cell_type": "markdown",
   "id": "cordless-grant",
   "metadata": {},
   "source": [
    "# *Bank Personal Loan Modelling*"
   ]
  },
  {
   "cell_type": "markdown",
   "id": "victorian-laugh",
   "metadata": {},
   "source": [
    "## *Introduction*"
   ]
  },
  {
   "cell_type": "markdown",
   "id": "dominican-explorer",
   "metadata": {},
   "source": [
    "**AllLife Bank, a prominent financial institution in the United States, has experienced substantial growth in its customer base. While the majority of customers are liability customers, characterized by varying deposit sizes, the bank aims to expand its borrower base to enhance its loan business and, consequently, increase revenue through interest on loans. The focus is on converting existing liability customers into personal loan customers while retaining them as depositors.**\n",
    "\n",
    "**In a successful campaign conducted last year targeting liability customers, the bank achieved an impressive conversion rate of over 9%. Encouraged by this success, the retail marketing department is now eager to improve the success ratio further by employing targeted marketing strategies.**\n",
    "\n",
    "**As a Data Scientist at AllLife Bank, the objective is to build a predictive model that will assist the marketing department in identifying potential customers with a higher probability of purchasing a personal loan. This model will enable the bank to optimize its marketing efforts and enhance the efficiency of converting liability customers into valuable personal loan customers.**"
   ]
  },
  {
   "cell_type": "markdown",
   "id": "comparative-donna",
   "metadata": {},
   "source": [
    "## *Dataset Overview*"
   ]
  },
  {
   "cell_type": "markdown",
   "id": "decent-munich",
   "metadata": {},
   "source": [
    "**The dataset provided for this project, named \"Bank Personal Loan Modelling,\" contains essential information about AllLife Bank's customers. The dataset encompasses details on customers who are both liability (depositors) and borrowers (asset customers). The goal is to analyze and leverage this data to predict the likelihood of a customer opting for a personal loan.**"
   ]
  },
  {
   "cell_type": "markdown",
   "id": "tender-combination",
   "metadata": {},
   "source": [
    "## *Project Objective*"
   ]
  },
  {
   "cell_type": "markdown",
   "id": "natural-sixth",
   "metadata": {},
   "source": [
    "**The primary objective of this machine learning project is to develop a robust predictive model that can identify potential customers with a higher probability of accepting a personal loan offer. By leveraging historical data and customer attributes, the model will assist the marketing department in strategically targeting individuals who are more likely to convert, thereby maximizing the success ratio of personal loan campaigns.**\n",
    "\n",
    "**Let's delve into the exploration and analysis of the dataset, followed by the implementation of machine learning algorithms to achieve this goal.**"
   ]
  },
  {
   "cell_type": "markdown",
   "id": "thrown-premium",
   "metadata": {},
   "source": [
    "# **Importing the Required Libraries**"
   ]
  },
  {
   "cell_type": "code",
   "execution_count": 81,
   "id": "liquid-reset",
   "metadata": {},
   "outputs": [],
   "source": [
    "import warnings\n",
    "warnings.filterwarnings('ignore')"
   ]
  },
  {
   "cell_type": "code",
   "execution_count": 82,
   "id": "attractive-designer",
   "metadata": {},
   "outputs": [],
   "source": [
    "import pandas as pd\n",
    "import numpy as np\n",
    "import matplotlib.pyplot as plt\n",
    "import seaborn as sns\n",
    "\n",
    "from imblearn.over_sampling import SMOTE\n",
    "from sklearn.model_selection import train_test_split\n",
    "from sklearn.preprocessing import StandardScaler\n",
    "from sklearn.preprocessing import LabelEncoder\n",
    "\n",
    "from sklearn.linear_model import LogisticRegression\n",
    "from sklearn.naive_bayes import GaussianNB\n",
    "from sklearn.svm import SVC\n",
    "from sklearn.metrics import confusion_matrix, accuracy_score,classification_report\n",
    "from sklearn.metrics import precision_score, recall_score, f1_score"
   ]
  },
  {
   "cell_type": "markdown",
   "id": "medium-native",
   "metadata": {},
   "source": [
    "# **Loading the Dataset**"
   ]
  },
  {
   "cell_type": "code",
   "execution_count": 83,
   "id": "controlling-bosnia",
   "metadata": {},
   "outputs": [],
   "source": [
    "dataset = pd.read_csv(\"Bank_Personal_Loan_Modelling.csv\")"
   ]
  },
  {
   "cell_type": "markdown",
   "id": "waiting-reflection",
   "metadata": {},
   "source": [
    "# **Exploratory Data Analysis (EDA)**"
   ]
  },
  {
   "cell_type": "markdown",
   "id": "copyrighted-listening",
   "metadata": {},
   "source": [
    "In preparation for constructing a predictive model, a thorough Exploratory Data Analysis (EDA) of the \"Bank Personal Loan Modelling\" dataset is essential. This initial phase involves gaining an overview of the dataset's dimensions, variable types, and values. Descriptive statistics will be computed to extract numerical insights, shedding light on the central tendencies and variations within the data. \n",
    "\n",
    "Our exploration extends to uncovering patterns and relationships between variables, employing visualizations to discern correlations. Addressing missing values is a pivotal aspect, ensuring data completeness for reliable modeling. Throughout the EDA process, we remain attentive to potential feature engineering opportunities that could enhance the model's predictive capabilities. In summary, EDA serves as the compass guiding subsequent decisions in preprocessing, feature selection, and the overall model-building strategy, aiming to provide actionable insights for effective marketing targeting and personal loan conversion."
   ]
  },
  {
   "cell_type": "code",
   "execution_count": 84,
   "id": "developing-edinburgh",
   "metadata": {},
   "outputs": [
    {
     "data": {
      "text/html": [
       "<div>\n",
       "<style scoped>\n",
       "    .dataframe tbody tr th:only-of-type {\n",
       "        vertical-align: middle;\n",
       "    }\n",
       "\n",
       "    .dataframe tbody tr th {\n",
       "        vertical-align: top;\n",
       "    }\n",
       "\n",
       "    .dataframe thead th {\n",
       "        text-align: right;\n",
       "    }\n",
       "</style>\n",
       "<table border=\"1\" class=\"dataframe\">\n",
       "  <thead>\n",
       "    <tr style=\"text-align: right;\">\n",
       "      <th></th>\n",
       "      <th>ID</th>\n",
       "      <th>Age</th>\n",
       "      <th>Experience</th>\n",
       "      <th>Income</th>\n",
       "      <th>ZIP Code</th>\n",
       "      <th>Family</th>\n",
       "      <th>CCAvg</th>\n",
       "      <th>Education</th>\n",
       "      <th>Mortgage</th>\n",
       "      <th>Personal Loan</th>\n",
       "      <th>Securities Account</th>\n",
       "      <th>CD Account</th>\n",
       "      <th>Online</th>\n",
       "      <th>CreditCard</th>\n",
       "    </tr>\n",
       "  </thead>\n",
       "  <tbody>\n",
       "    <tr>\n",
       "      <th>0</th>\n",
       "      <td>1</td>\n",
       "      <td>25</td>\n",
       "      <td>1</td>\n",
       "      <td>49</td>\n",
       "      <td>91107</td>\n",
       "      <td>4</td>\n",
       "      <td>1.6</td>\n",
       "      <td>1</td>\n",
       "      <td>0</td>\n",
       "      <td>0</td>\n",
       "      <td>1</td>\n",
       "      <td>0</td>\n",
       "      <td>0</td>\n",
       "      <td>0</td>\n",
       "    </tr>\n",
       "    <tr>\n",
       "      <th>1</th>\n",
       "      <td>2</td>\n",
       "      <td>45</td>\n",
       "      <td>19</td>\n",
       "      <td>34</td>\n",
       "      <td>90089</td>\n",
       "      <td>3</td>\n",
       "      <td>1.5</td>\n",
       "      <td>1</td>\n",
       "      <td>0</td>\n",
       "      <td>0</td>\n",
       "      <td>1</td>\n",
       "      <td>0</td>\n",
       "      <td>0</td>\n",
       "      <td>0</td>\n",
       "    </tr>\n",
       "    <tr>\n",
       "      <th>2</th>\n",
       "      <td>3</td>\n",
       "      <td>39</td>\n",
       "      <td>15</td>\n",
       "      <td>11</td>\n",
       "      <td>94720</td>\n",
       "      <td>1</td>\n",
       "      <td>1.0</td>\n",
       "      <td>1</td>\n",
       "      <td>0</td>\n",
       "      <td>0</td>\n",
       "      <td>0</td>\n",
       "      <td>0</td>\n",
       "      <td>0</td>\n",
       "      <td>0</td>\n",
       "    </tr>\n",
       "    <tr>\n",
       "      <th>3</th>\n",
       "      <td>4</td>\n",
       "      <td>35</td>\n",
       "      <td>9</td>\n",
       "      <td>100</td>\n",
       "      <td>94112</td>\n",
       "      <td>1</td>\n",
       "      <td>2.7</td>\n",
       "      <td>2</td>\n",
       "      <td>0</td>\n",
       "      <td>0</td>\n",
       "      <td>0</td>\n",
       "      <td>0</td>\n",
       "      <td>0</td>\n",
       "      <td>0</td>\n",
       "    </tr>\n",
       "    <tr>\n",
       "      <th>4</th>\n",
       "      <td>5</td>\n",
       "      <td>35</td>\n",
       "      <td>8</td>\n",
       "      <td>45</td>\n",
       "      <td>91330</td>\n",
       "      <td>4</td>\n",
       "      <td>1.0</td>\n",
       "      <td>2</td>\n",
       "      <td>0</td>\n",
       "      <td>0</td>\n",
       "      <td>0</td>\n",
       "      <td>0</td>\n",
       "      <td>0</td>\n",
       "      <td>1</td>\n",
       "    </tr>\n",
       "    <tr>\n",
       "      <th>...</th>\n",
       "      <td>...</td>\n",
       "      <td>...</td>\n",
       "      <td>...</td>\n",
       "      <td>...</td>\n",
       "      <td>...</td>\n",
       "      <td>...</td>\n",
       "      <td>...</td>\n",
       "      <td>...</td>\n",
       "      <td>...</td>\n",
       "      <td>...</td>\n",
       "      <td>...</td>\n",
       "      <td>...</td>\n",
       "      <td>...</td>\n",
       "      <td>...</td>\n",
       "    </tr>\n",
       "    <tr>\n",
       "      <th>4995</th>\n",
       "      <td>4996</td>\n",
       "      <td>29</td>\n",
       "      <td>3</td>\n",
       "      <td>40</td>\n",
       "      <td>92697</td>\n",
       "      <td>1</td>\n",
       "      <td>1.9</td>\n",
       "      <td>3</td>\n",
       "      <td>0</td>\n",
       "      <td>0</td>\n",
       "      <td>0</td>\n",
       "      <td>0</td>\n",
       "      <td>1</td>\n",
       "      <td>0</td>\n",
       "    </tr>\n",
       "    <tr>\n",
       "      <th>4996</th>\n",
       "      <td>4997</td>\n",
       "      <td>30</td>\n",
       "      <td>4</td>\n",
       "      <td>15</td>\n",
       "      <td>92037</td>\n",
       "      <td>4</td>\n",
       "      <td>0.4</td>\n",
       "      <td>1</td>\n",
       "      <td>85</td>\n",
       "      <td>0</td>\n",
       "      <td>0</td>\n",
       "      <td>0</td>\n",
       "      <td>1</td>\n",
       "      <td>0</td>\n",
       "    </tr>\n",
       "    <tr>\n",
       "      <th>4997</th>\n",
       "      <td>4998</td>\n",
       "      <td>63</td>\n",
       "      <td>39</td>\n",
       "      <td>24</td>\n",
       "      <td>93023</td>\n",
       "      <td>2</td>\n",
       "      <td>0.3</td>\n",
       "      <td>3</td>\n",
       "      <td>0</td>\n",
       "      <td>0</td>\n",
       "      <td>0</td>\n",
       "      <td>0</td>\n",
       "      <td>0</td>\n",
       "      <td>0</td>\n",
       "    </tr>\n",
       "    <tr>\n",
       "      <th>4998</th>\n",
       "      <td>4999</td>\n",
       "      <td>65</td>\n",
       "      <td>40</td>\n",
       "      <td>49</td>\n",
       "      <td>90034</td>\n",
       "      <td>3</td>\n",
       "      <td>0.5</td>\n",
       "      <td>2</td>\n",
       "      <td>0</td>\n",
       "      <td>0</td>\n",
       "      <td>0</td>\n",
       "      <td>0</td>\n",
       "      <td>1</td>\n",
       "      <td>0</td>\n",
       "    </tr>\n",
       "    <tr>\n",
       "      <th>4999</th>\n",
       "      <td>5000</td>\n",
       "      <td>28</td>\n",
       "      <td>4</td>\n",
       "      <td>83</td>\n",
       "      <td>92612</td>\n",
       "      <td>3</td>\n",
       "      <td>0.8</td>\n",
       "      <td>1</td>\n",
       "      <td>0</td>\n",
       "      <td>0</td>\n",
       "      <td>0</td>\n",
       "      <td>0</td>\n",
       "      <td>1</td>\n",
       "      <td>1</td>\n",
       "    </tr>\n",
       "  </tbody>\n",
       "</table>\n",
       "<p>5000 rows × 14 columns</p>\n",
       "</div>"
      ],
      "text/plain": [
       "        ID  Age  Experience  Income  ZIP Code  Family  CCAvg  Education  \\\n",
       "0        1   25           1      49     91107       4    1.6          1   \n",
       "1        2   45          19      34     90089       3    1.5          1   \n",
       "2        3   39          15      11     94720       1    1.0          1   \n",
       "3        4   35           9     100     94112       1    2.7          2   \n",
       "4        5   35           8      45     91330       4    1.0          2   \n",
       "...    ...  ...         ...     ...       ...     ...    ...        ...   \n",
       "4995  4996   29           3      40     92697       1    1.9          3   \n",
       "4996  4997   30           4      15     92037       4    0.4          1   \n",
       "4997  4998   63          39      24     93023       2    0.3          3   \n",
       "4998  4999   65          40      49     90034       3    0.5          2   \n",
       "4999  5000   28           4      83     92612       3    0.8          1   \n",
       "\n",
       "      Mortgage  Personal Loan  Securities Account  CD Account  Online  \\\n",
       "0            0              0                   1           0       0   \n",
       "1            0              0                   1           0       0   \n",
       "2            0              0                   0           0       0   \n",
       "3            0              0                   0           0       0   \n",
       "4            0              0                   0           0       0   \n",
       "...        ...            ...                 ...         ...     ...   \n",
       "4995         0              0                   0           0       1   \n",
       "4996        85              0                   0           0       1   \n",
       "4997         0              0                   0           0       0   \n",
       "4998         0              0                   0           0       1   \n",
       "4999         0              0                   0           0       1   \n",
       "\n",
       "      CreditCard  \n",
       "0              0  \n",
       "1              0  \n",
       "2              0  \n",
       "3              0  \n",
       "4              1  \n",
       "...          ...  \n",
       "4995           0  \n",
       "4996           0  \n",
       "4997           0  \n",
       "4998           0  \n",
       "4999           1  \n",
       "\n",
       "[5000 rows x 14 columns]"
      ]
     },
     "execution_count": 84,
     "metadata": {},
     "output_type": "execute_result"
    }
   ],
   "source": [
    "dataset"
   ]
  },
  {
   "cell_type": "code",
   "execution_count": 85,
   "id": "perfect-instrument",
   "metadata": {},
   "outputs": [
    {
     "data": {
      "text/html": [
       "<div>\n",
       "<style scoped>\n",
       "    .dataframe tbody tr th:only-of-type {\n",
       "        vertical-align: middle;\n",
       "    }\n",
       "\n",
       "    .dataframe tbody tr th {\n",
       "        vertical-align: top;\n",
       "    }\n",
       "\n",
       "    .dataframe thead th {\n",
       "        text-align: right;\n",
       "    }\n",
       "</style>\n",
       "<table border=\"1\" class=\"dataframe\">\n",
       "  <thead>\n",
       "    <tr style=\"text-align: right;\">\n",
       "      <th></th>\n",
       "      <th>ID</th>\n",
       "      <th>Age</th>\n",
       "      <th>Experience</th>\n",
       "      <th>Income</th>\n",
       "      <th>ZIP Code</th>\n",
       "      <th>Family</th>\n",
       "      <th>CCAvg</th>\n",
       "      <th>Education</th>\n",
       "      <th>Mortgage</th>\n",
       "      <th>Personal Loan</th>\n",
       "      <th>Securities Account</th>\n",
       "      <th>CD Account</th>\n",
       "      <th>Online</th>\n",
       "      <th>CreditCard</th>\n",
       "    </tr>\n",
       "  </thead>\n",
       "  <tbody>\n",
       "    <tr>\n",
       "      <th>0</th>\n",
       "      <td>1</td>\n",
       "      <td>25</td>\n",
       "      <td>1</td>\n",
       "      <td>49</td>\n",
       "      <td>91107</td>\n",
       "      <td>4</td>\n",
       "      <td>1.6</td>\n",
       "      <td>1</td>\n",
       "      <td>0</td>\n",
       "      <td>0</td>\n",
       "      <td>1</td>\n",
       "      <td>0</td>\n",
       "      <td>0</td>\n",
       "      <td>0</td>\n",
       "    </tr>\n",
       "    <tr>\n",
       "      <th>1</th>\n",
       "      <td>2</td>\n",
       "      <td>45</td>\n",
       "      <td>19</td>\n",
       "      <td>34</td>\n",
       "      <td>90089</td>\n",
       "      <td>3</td>\n",
       "      <td>1.5</td>\n",
       "      <td>1</td>\n",
       "      <td>0</td>\n",
       "      <td>0</td>\n",
       "      <td>1</td>\n",
       "      <td>0</td>\n",
       "      <td>0</td>\n",
       "      <td>0</td>\n",
       "    </tr>\n",
       "    <tr>\n",
       "      <th>2</th>\n",
       "      <td>3</td>\n",
       "      <td>39</td>\n",
       "      <td>15</td>\n",
       "      <td>11</td>\n",
       "      <td>94720</td>\n",
       "      <td>1</td>\n",
       "      <td>1.0</td>\n",
       "      <td>1</td>\n",
       "      <td>0</td>\n",
       "      <td>0</td>\n",
       "      <td>0</td>\n",
       "      <td>0</td>\n",
       "      <td>0</td>\n",
       "      <td>0</td>\n",
       "    </tr>\n",
       "    <tr>\n",
       "      <th>3</th>\n",
       "      <td>4</td>\n",
       "      <td>35</td>\n",
       "      <td>9</td>\n",
       "      <td>100</td>\n",
       "      <td>94112</td>\n",
       "      <td>1</td>\n",
       "      <td>2.7</td>\n",
       "      <td>2</td>\n",
       "      <td>0</td>\n",
       "      <td>0</td>\n",
       "      <td>0</td>\n",
       "      <td>0</td>\n",
       "      <td>0</td>\n",
       "      <td>0</td>\n",
       "    </tr>\n",
       "    <tr>\n",
       "      <th>4</th>\n",
       "      <td>5</td>\n",
       "      <td>35</td>\n",
       "      <td>8</td>\n",
       "      <td>45</td>\n",
       "      <td>91330</td>\n",
       "      <td>4</td>\n",
       "      <td>1.0</td>\n",
       "      <td>2</td>\n",
       "      <td>0</td>\n",
       "      <td>0</td>\n",
       "      <td>0</td>\n",
       "      <td>0</td>\n",
       "      <td>0</td>\n",
       "      <td>1</td>\n",
       "    </tr>\n",
       "  </tbody>\n",
       "</table>\n",
       "</div>"
      ],
      "text/plain": [
       "   ID  Age  Experience  Income  ZIP Code  Family  CCAvg  Education  Mortgage  \\\n",
       "0   1   25           1      49     91107       4    1.6          1         0   \n",
       "1   2   45          19      34     90089       3    1.5          1         0   \n",
       "2   3   39          15      11     94720       1    1.0          1         0   \n",
       "3   4   35           9     100     94112       1    2.7          2         0   \n",
       "4   5   35           8      45     91330       4    1.0          2         0   \n",
       "\n",
       "   Personal Loan  Securities Account  CD Account  Online  CreditCard  \n",
       "0              0                   1           0       0           0  \n",
       "1              0                   1           0       0           0  \n",
       "2              0                   0           0       0           0  \n",
       "3              0                   0           0       0           0  \n",
       "4              0                   0           0       0           1  "
      ]
     },
     "execution_count": 85,
     "metadata": {},
     "output_type": "execute_result"
    }
   ],
   "source": [
    "# Checking the first 5 rows\n",
    "dataset.head()"
   ]
  },
  {
   "cell_type": "code",
   "execution_count": 86,
   "id": "theoretical-louisville",
   "metadata": {},
   "outputs": [
    {
     "data": {
      "text/html": [
       "<div>\n",
       "<style scoped>\n",
       "    .dataframe tbody tr th:only-of-type {\n",
       "        vertical-align: middle;\n",
       "    }\n",
       "\n",
       "    .dataframe tbody tr th {\n",
       "        vertical-align: top;\n",
       "    }\n",
       "\n",
       "    .dataframe thead th {\n",
       "        text-align: right;\n",
       "    }\n",
       "</style>\n",
       "<table border=\"1\" class=\"dataframe\">\n",
       "  <thead>\n",
       "    <tr style=\"text-align: right;\">\n",
       "      <th></th>\n",
       "      <th>ID</th>\n",
       "      <th>Age</th>\n",
       "      <th>Experience</th>\n",
       "      <th>Income</th>\n",
       "      <th>ZIP Code</th>\n",
       "      <th>Family</th>\n",
       "      <th>CCAvg</th>\n",
       "      <th>Education</th>\n",
       "      <th>Mortgage</th>\n",
       "      <th>Personal Loan</th>\n",
       "      <th>Securities Account</th>\n",
       "      <th>CD Account</th>\n",
       "      <th>Online</th>\n",
       "      <th>CreditCard</th>\n",
       "    </tr>\n",
       "  </thead>\n",
       "  <tbody>\n",
       "    <tr>\n",
       "      <th>4995</th>\n",
       "      <td>4996</td>\n",
       "      <td>29</td>\n",
       "      <td>3</td>\n",
       "      <td>40</td>\n",
       "      <td>92697</td>\n",
       "      <td>1</td>\n",
       "      <td>1.9</td>\n",
       "      <td>3</td>\n",
       "      <td>0</td>\n",
       "      <td>0</td>\n",
       "      <td>0</td>\n",
       "      <td>0</td>\n",
       "      <td>1</td>\n",
       "      <td>0</td>\n",
       "    </tr>\n",
       "    <tr>\n",
       "      <th>4996</th>\n",
       "      <td>4997</td>\n",
       "      <td>30</td>\n",
       "      <td>4</td>\n",
       "      <td>15</td>\n",
       "      <td>92037</td>\n",
       "      <td>4</td>\n",
       "      <td>0.4</td>\n",
       "      <td>1</td>\n",
       "      <td>85</td>\n",
       "      <td>0</td>\n",
       "      <td>0</td>\n",
       "      <td>0</td>\n",
       "      <td>1</td>\n",
       "      <td>0</td>\n",
       "    </tr>\n",
       "    <tr>\n",
       "      <th>4997</th>\n",
       "      <td>4998</td>\n",
       "      <td>63</td>\n",
       "      <td>39</td>\n",
       "      <td>24</td>\n",
       "      <td>93023</td>\n",
       "      <td>2</td>\n",
       "      <td>0.3</td>\n",
       "      <td>3</td>\n",
       "      <td>0</td>\n",
       "      <td>0</td>\n",
       "      <td>0</td>\n",
       "      <td>0</td>\n",
       "      <td>0</td>\n",
       "      <td>0</td>\n",
       "    </tr>\n",
       "    <tr>\n",
       "      <th>4998</th>\n",
       "      <td>4999</td>\n",
       "      <td>65</td>\n",
       "      <td>40</td>\n",
       "      <td>49</td>\n",
       "      <td>90034</td>\n",
       "      <td>3</td>\n",
       "      <td>0.5</td>\n",
       "      <td>2</td>\n",
       "      <td>0</td>\n",
       "      <td>0</td>\n",
       "      <td>0</td>\n",
       "      <td>0</td>\n",
       "      <td>1</td>\n",
       "      <td>0</td>\n",
       "    </tr>\n",
       "    <tr>\n",
       "      <th>4999</th>\n",
       "      <td>5000</td>\n",
       "      <td>28</td>\n",
       "      <td>4</td>\n",
       "      <td>83</td>\n",
       "      <td>92612</td>\n",
       "      <td>3</td>\n",
       "      <td>0.8</td>\n",
       "      <td>1</td>\n",
       "      <td>0</td>\n",
       "      <td>0</td>\n",
       "      <td>0</td>\n",
       "      <td>0</td>\n",
       "      <td>1</td>\n",
       "      <td>1</td>\n",
       "    </tr>\n",
       "  </tbody>\n",
       "</table>\n",
       "</div>"
      ],
      "text/plain": [
       "        ID  Age  Experience  Income  ZIP Code  Family  CCAvg  Education  \\\n",
       "4995  4996   29           3      40     92697       1    1.9          3   \n",
       "4996  4997   30           4      15     92037       4    0.4          1   \n",
       "4997  4998   63          39      24     93023       2    0.3          3   \n",
       "4998  4999   65          40      49     90034       3    0.5          2   \n",
       "4999  5000   28           4      83     92612       3    0.8          1   \n",
       "\n",
       "      Mortgage  Personal Loan  Securities Account  CD Account  Online  \\\n",
       "4995         0              0                   0           0       1   \n",
       "4996        85              0                   0           0       1   \n",
       "4997         0              0                   0           0       0   \n",
       "4998         0              0                   0           0       1   \n",
       "4999         0              0                   0           0       1   \n",
       "\n",
       "      CreditCard  \n",
       "4995           0  \n",
       "4996           0  \n",
       "4997           0  \n",
       "4998           0  \n",
       "4999           1  "
      ]
     },
     "execution_count": 86,
     "metadata": {},
     "output_type": "execute_result"
    }
   ],
   "source": [
    "# Checking the last 5 rows\n",
    "dataset.tail()"
   ]
  },
  {
   "cell_type": "code",
   "execution_count": 87,
   "id": "minute-allergy",
   "metadata": {},
   "outputs": [
    {
     "data": {
      "text/plain": [
       "(5000, 14)"
      ]
     },
     "execution_count": 87,
     "metadata": {},
     "output_type": "execute_result"
    }
   ],
   "source": [
    "dataset.shape"
   ]
  },
  {
   "cell_type": "markdown",
   "id": "ancient-utilization",
   "metadata": {},
   "source": [
    "### **Checking Null Values and Duplicates in the Dataset**"
   ]
  },
  {
   "cell_type": "code",
   "execution_count": 88,
   "id": "applicable-style",
   "metadata": {},
   "outputs": [
    {
     "data": {
      "text/plain": [
       "ID                    0\n",
       "Age                   0\n",
       "Experience            0\n",
       "Income                0\n",
       "ZIP Code              0\n",
       "Family                0\n",
       "CCAvg                 0\n",
       "Education             0\n",
       "Mortgage              0\n",
       "Personal Loan         0\n",
       "Securities Account    0\n",
       "CD Account            0\n",
       "Online                0\n",
       "CreditCard            0\n",
       "dtype: int64"
      ]
     },
     "execution_count": 88,
     "metadata": {},
     "output_type": "execute_result"
    }
   ],
   "source": [
    "# Checking null values in the dataset\n",
    "dataset.isna().sum()"
   ]
  },
  {
   "cell_type": "code",
   "execution_count": 89,
   "id": "living-think",
   "metadata": {},
   "outputs": [
    {
     "data": {
      "text/plain": [
       "0"
      ]
     },
     "execution_count": 89,
     "metadata": {},
     "output_type": "execute_result"
    }
   ],
   "source": [
    "# Checking duplicates in the dataset\n",
    "dataset.duplicated().sum()"
   ]
  },
  {
   "cell_type": "markdown",
   "id": "sorted-mercy",
   "metadata": {},
   "source": [
    "**Our dataset does not have any null values and duplicates.**\n",
    "\n",
    "**Now we can proceed with confidence, knowing that our dataset is clean and ready for further analysis.**"
   ]
  },
  {
   "cell_type": "markdown",
   "id": "fresh-fireplace",
   "metadata": {},
   "source": [
    "**Next, Lets check the names and some additional information about all the columns in our dataset.**"
   ]
  },
  {
   "cell_type": "code",
   "execution_count": 90,
   "id": "answering-growth",
   "metadata": {},
   "outputs": [
    {
     "data": {
      "text/plain": [
       "Index(['ID', 'Age', 'Experience', 'Income', 'ZIP Code', 'Family', 'CCAvg',\n",
       "       'Education', 'Mortgage', 'Personal Loan', 'Securities Account',\n",
       "       'CD Account', 'Online', 'CreditCard'],\n",
       "      dtype='object')"
      ]
     },
     "execution_count": 90,
     "metadata": {},
     "output_type": "execute_result"
    }
   ],
   "source": [
    "dataset.columns"
   ]
  },
  {
   "cell_type": "markdown",
   "id": "extended-assurance",
   "metadata": {},
   "source": [
    "**Dataset Features**\n",
    "\n",
    "---\n",
    "**ID** : Unique identifier for each customer.\n",
    "\n",
    "**Age** : Age of the customer.\n",
    "\n",
    "**Experience** : Years of professional experience.\n",
    "\n",
    "**Income** : Customer's annual income.\n",
    "\n",
    "**ZIP Code** : Customer's postal code.\n",
    "\n",
    "**Family** : Size of the customer's family.\n",
    "\n",
    "**CCAvg** : Average credit card spending per month.\n",
    "\n",
    "**Education** : Level of education attained.\n",
    "\n",
    "**Mortgage** : Mortgage value, if applicable.\n",
    "\n",
    "**Personal Loan** : Target variable indicating acceptance of a personal loan offer.\n",
    "\n",
    "**Securities Account** : Whether the customer has a securities account.\n",
    "\n",
    "**CD Account** : Whether the customer has a certificate of deposit account.\n",
    "\n",
    "**Online** : Whether the customer uses online banking.\n",
    "\n",
    "**CreditCard** : Whether the customer has a credit card.\n"
   ]
  },
  {
   "cell_type": "code",
   "execution_count": 91,
   "id": "ordinary-angle",
   "metadata": {},
   "outputs": [
    {
     "data": {
      "text/html": [
       "<div>\n",
       "<style scoped>\n",
       "    .dataframe tbody tr th:only-of-type {\n",
       "        vertical-align: middle;\n",
       "    }\n",
       "\n",
       "    .dataframe tbody tr th {\n",
       "        vertical-align: top;\n",
       "    }\n",
       "\n",
       "    .dataframe thead th {\n",
       "        text-align: right;\n",
       "    }\n",
       "</style>\n",
       "<table border=\"1\" class=\"dataframe\">\n",
       "  <thead>\n",
       "    <tr style=\"text-align: right;\">\n",
       "      <th></th>\n",
       "      <th>ID</th>\n",
       "      <th>Age</th>\n",
       "      <th>Experience</th>\n",
       "      <th>Income</th>\n",
       "      <th>ZIP Code</th>\n",
       "      <th>Family</th>\n",
       "      <th>CCAvg</th>\n",
       "      <th>Education</th>\n",
       "      <th>Mortgage</th>\n",
       "      <th>Personal Loan</th>\n",
       "      <th>Securities Account</th>\n",
       "      <th>CD Account</th>\n",
       "      <th>Online</th>\n",
       "      <th>CreditCard</th>\n",
       "    </tr>\n",
       "  </thead>\n",
       "  <tbody>\n",
       "    <tr>\n",
       "      <th>count</th>\n",
       "      <td>5000.000000</td>\n",
       "      <td>5000.000000</td>\n",
       "      <td>5000.000000</td>\n",
       "      <td>5000.000000</td>\n",
       "      <td>5000.000000</td>\n",
       "      <td>5000.000000</td>\n",
       "      <td>5000.000000</td>\n",
       "      <td>5000.000000</td>\n",
       "      <td>5000.000000</td>\n",
       "      <td>5000.000000</td>\n",
       "      <td>5000.000000</td>\n",
       "      <td>5000.00000</td>\n",
       "      <td>5000.000000</td>\n",
       "      <td>5000.000000</td>\n",
       "    </tr>\n",
       "    <tr>\n",
       "      <th>mean</th>\n",
       "      <td>2500.500000</td>\n",
       "      <td>45.338400</td>\n",
       "      <td>20.104600</td>\n",
       "      <td>73.774200</td>\n",
       "      <td>93152.503000</td>\n",
       "      <td>2.396400</td>\n",
       "      <td>1.937938</td>\n",
       "      <td>1.881000</td>\n",
       "      <td>56.498800</td>\n",
       "      <td>0.096000</td>\n",
       "      <td>0.104400</td>\n",
       "      <td>0.06040</td>\n",
       "      <td>0.596800</td>\n",
       "      <td>0.294000</td>\n",
       "    </tr>\n",
       "    <tr>\n",
       "      <th>std</th>\n",
       "      <td>1443.520003</td>\n",
       "      <td>11.463166</td>\n",
       "      <td>11.467954</td>\n",
       "      <td>46.033729</td>\n",
       "      <td>2121.852197</td>\n",
       "      <td>1.147663</td>\n",
       "      <td>1.747659</td>\n",
       "      <td>0.839869</td>\n",
       "      <td>101.713802</td>\n",
       "      <td>0.294621</td>\n",
       "      <td>0.305809</td>\n",
       "      <td>0.23825</td>\n",
       "      <td>0.490589</td>\n",
       "      <td>0.455637</td>\n",
       "    </tr>\n",
       "    <tr>\n",
       "      <th>min</th>\n",
       "      <td>1.000000</td>\n",
       "      <td>23.000000</td>\n",
       "      <td>-3.000000</td>\n",
       "      <td>8.000000</td>\n",
       "      <td>9307.000000</td>\n",
       "      <td>1.000000</td>\n",
       "      <td>0.000000</td>\n",
       "      <td>1.000000</td>\n",
       "      <td>0.000000</td>\n",
       "      <td>0.000000</td>\n",
       "      <td>0.000000</td>\n",
       "      <td>0.00000</td>\n",
       "      <td>0.000000</td>\n",
       "      <td>0.000000</td>\n",
       "    </tr>\n",
       "    <tr>\n",
       "      <th>25%</th>\n",
       "      <td>1250.750000</td>\n",
       "      <td>35.000000</td>\n",
       "      <td>10.000000</td>\n",
       "      <td>39.000000</td>\n",
       "      <td>91911.000000</td>\n",
       "      <td>1.000000</td>\n",
       "      <td>0.700000</td>\n",
       "      <td>1.000000</td>\n",
       "      <td>0.000000</td>\n",
       "      <td>0.000000</td>\n",
       "      <td>0.000000</td>\n",
       "      <td>0.00000</td>\n",
       "      <td>0.000000</td>\n",
       "      <td>0.000000</td>\n",
       "    </tr>\n",
       "    <tr>\n",
       "      <th>50%</th>\n",
       "      <td>2500.500000</td>\n",
       "      <td>45.000000</td>\n",
       "      <td>20.000000</td>\n",
       "      <td>64.000000</td>\n",
       "      <td>93437.000000</td>\n",
       "      <td>2.000000</td>\n",
       "      <td>1.500000</td>\n",
       "      <td>2.000000</td>\n",
       "      <td>0.000000</td>\n",
       "      <td>0.000000</td>\n",
       "      <td>0.000000</td>\n",
       "      <td>0.00000</td>\n",
       "      <td>1.000000</td>\n",
       "      <td>0.000000</td>\n",
       "    </tr>\n",
       "    <tr>\n",
       "      <th>75%</th>\n",
       "      <td>3750.250000</td>\n",
       "      <td>55.000000</td>\n",
       "      <td>30.000000</td>\n",
       "      <td>98.000000</td>\n",
       "      <td>94608.000000</td>\n",
       "      <td>3.000000</td>\n",
       "      <td>2.500000</td>\n",
       "      <td>3.000000</td>\n",
       "      <td>101.000000</td>\n",
       "      <td>0.000000</td>\n",
       "      <td>0.000000</td>\n",
       "      <td>0.00000</td>\n",
       "      <td>1.000000</td>\n",
       "      <td>1.000000</td>\n",
       "    </tr>\n",
       "    <tr>\n",
       "      <th>max</th>\n",
       "      <td>5000.000000</td>\n",
       "      <td>67.000000</td>\n",
       "      <td>43.000000</td>\n",
       "      <td>224.000000</td>\n",
       "      <td>96651.000000</td>\n",
       "      <td>4.000000</td>\n",
       "      <td>10.000000</td>\n",
       "      <td>3.000000</td>\n",
       "      <td>635.000000</td>\n",
       "      <td>1.000000</td>\n",
       "      <td>1.000000</td>\n",
       "      <td>1.00000</td>\n",
       "      <td>1.000000</td>\n",
       "      <td>1.000000</td>\n",
       "    </tr>\n",
       "  </tbody>\n",
       "</table>\n",
       "</div>"
      ],
      "text/plain": [
       "                ID          Age   Experience       Income      ZIP Code  \\\n",
       "count  5000.000000  5000.000000  5000.000000  5000.000000   5000.000000   \n",
       "mean   2500.500000    45.338400    20.104600    73.774200  93152.503000   \n",
       "std    1443.520003    11.463166    11.467954    46.033729   2121.852197   \n",
       "min       1.000000    23.000000    -3.000000     8.000000   9307.000000   \n",
       "25%    1250.750000    35.000000    10.000000    39.000000  91911.000000   \n",
       "50%    2500.500000    45.000000    20.000000    64.000000  93437.000000   \n",
       "75%    3750.250000    55.000000    30.000000    98.000000  94608.000000   \n",
       "max    5000.000000    67.000000    43.000000   224.000000  96651.000000   \n",
       "\n",
       "            Family        CCAvg    Education     Mortgage  Personal Loan  \\\n",
       "count  5000.000000  5000.000000  5000.000000  5000.000000    5000.000000   \n",
       "mean      2.396400     1.937938     1.881000    56.498800       0.096000   \n",
       "std       1.147663     1.747659     0.839869   101.713802       0.294621   \n",
       "min       1.000000     0.000000     1.000000     0.000000       0.000000   \n",
       "25%       1.000000     0.700000     1.000000     0.000000       0.000000   \n",
       "50%       2.000000     1.500000     2.000000     0.000000       0.000000   \n",
       "75%       3.000000     2.500000     3.000000   101.000000       0.000000   \n",
       "max       4.000000    10.000000     3.000000   635.000000       1.000000   \n",
       "\n",
       "       Securities Account  CD Account       Online   CreditCard  \n",
       "count         5000.000000  5000.00000  5000.000000  5000.000000  \n",
       "mean             0.104400     0.06040     0.596800     0.294000  \n",
       "std              0.305809     0.23825     0.490589     0.455637  \n",
       "min              0.000000     0.00000     0.000000     0.000000  \n",
       "25%              0.000000     0.00000     0.000000     0.000000  \n",
       "50%              0.000000     0.00000     1.000000     0.000000  \n",
       "75%              0.000000     0.00000     1.000000     1.000000  \n",
       "max              1.000000     1.00000     1.000000     1.000000  "
      ]
     },
     "execution_count": 91,
     "metadata": {},
     "output_type": "execute_result"
    }
   ],
   "source": [
    "# Getting more information about the columns\n",
    "dataset.describe()"
   ]
  },
  {
   "cell_type": "code",
   "execution_count": 92,
   "id": "baking-offense",
   "metadata": {},
   "outputs": [
    {
     "name": "stdout",
     "output_type": "stream",
     "text": [
      "<class 'pandas.core.frame.DataFrame'>\n",
      "RangeIndex: 5000 entries, 0 to 4999\n",
      "Data columns (total 14 columns):\n",
      " #   Column              Non-Null Count  Dtype  \n",
      "---  ------              --------------  -----  \n",
      " 0   ID                  5000 non-null   int64  \n",
      " 1   Age                 5000 non-null   int64  \n",
      " 2   Experience          5000 non-null   int64  \n",
      " 3   Income              5000 non-null   int64  \n",
      " 4   ZIP Code            5000 non-null   int64  \n",
      " 5   Family              5000 non-null   int64  \n",
      " 6   CCAvg               5000 non-null   float64\n",
      " 7   Education           5000 non-null   int64  \n",
      " 8   Mortgage            5000 non-null   int64  \n",
      " 9   Personal Loan       5000 non-null   int64  \n",
      " 10  Securities Account  5000 non-null   int64  \n",
      " 11  CD Account          5000 non-null   int64  \n",
      " 12  Online              5000 non-null   int64  \n",
      " 13  CreditCard          5000 non-null   int64  \n",
      "dtypes: float64(1), int64(13)\n",
      "memory usage: 547.0 KB\n"
     ]
    }
   ],
   "source": [
    "# Checking the datatypes of each column\n",
    "dataset.info()"
   ]
  },
  {
   "cell_type": "markdown",
   "id": "vertical-uruguay",
   "metadata": {},
   "source": [
    "**We can see that:**\n",
    "1. All our features have Numerical value\n",
    "2. Our Target Variable is \"Personal Loan\""
   ]
  },
  {
   "cell_type": "markdown",
   "id": "juvenile-bangkok",
   "metadata": {},
   "source": [
    "## **Visualizations**"
   ]
  },
  {
   "cell_type": "code",
   "execution_count": 93,
   "id": "looking-evaluation",
   "metadata": {},
   "outputs": [],
   "source": [
    "# Lets replace the Numeric Values with Categorical Values for the sake of Visualizations\n",
    "\n",
    "dataset[\"Personal Loan\"]=dataset[\"Personal Loan\"].replace({0:\"Not Taken\",1:\"Taken\"})\n",
    "dataset[\"Education\"]=dataset[\"Education\"].replace({1:\"Undergraduate\",2:\"Graduate\",3:\"Professional\"})\n",
    "dataset[\"Securities Account\"]=dataset[\"Securities Account\"].replace({0:\"Does Not Have\",1:\"Have\"})\n",
    "dataset[\"CD Account\"]=dataset[\"CD Account\"].replace({0:\"Does Not Have\",1:\"Have\"})\n",
    "dataset[\"Online\"]=dataset[\"Online\"].replace({0:\"Not Using\",1:\"Using\"})\n",
    "dataset[\"CreditCard\"]=dataset[\"CreditCard\"].replace({0:\"Does Not Have\",1:\"Have\"})   "
   ]
  },
  {
   "cell_type": "code",
   "execution_count": 94,
   "id": "technical-continent",
   "metadata": {},
   "outputs": [
    {
     "data": {
      "text/html": [
       "<div>\n",
       "<style scoped>\n",
       "    .dataframe tbody tr th:only-of-type {\n",
       "        vertical-align: middle;\n",
       "    }\n",
       "\n",
       "    .dataframe tbody tr th {\n",
       "        vertical-align: top;\n",
       "    }\n",
       "\n",
       "    .dataframe thead th {\n",
       "        text-align: right;\n",
       "    }\n",
       "</style>\n",
       "<table border=\"1\" class=\"dataframe\">\n",
       "  <thead>\n",
       "    <tr style=\"text-align: right;\">\n",
       "      <th></th>\n",
       "      <th>ID</th>\n",
       "      <th>Age</th>\n",
       "      <th>Experience</th>\n",
       "      <th>Income</th>\n",
       "      <th>ZIP Code</th>\n",
       "      <th>Family</th>\n",
       "      <th>CCAvg</th>\n",
       "      <th>Education</th>\n",
       "      <th>Mortgage</th>\n",
       "      <th>Personal Loan</th>\n",
       "      <th>Securities Account</th>\n",
       "      <th>CD Account</th>\n",
       "      <th>Online</th>\n",
       "      <th>CreditCard</th>\n",
       "    </tr>\n",
       "  </thead>\n",
       "  <tbody>\n",
       "    <tr>\n",
       "      <th>0</th>\n",
       "      <td>1</td>\n",
       "      <td>25</td>\n",
       "      <td>1</td>\n",
       "      <td>49</td>\n",
       "      <td>91107</td>\n",
       "      <td>4</td>\n",
       "      <td>1.6</td>\n",
       "      <td>Undergraduate</td>\n",
       "      <td>0</td>\n",
       "      <td>Not Taken</td>\n",
       "      <td>Have</td>\n",
       "      <td>Does Not Have</td>\n",
       "      <td>Not Using</td>\n",
       "      <td>Does Not Have</td>\n",
       "    </tr>\n",
       "    <tr>\n",
       "      <th>1</th>\n",
       "      <td>2</td>\n",
       "      <td>45</td>\n",
       "      <td>19</td>\n",
       "      <td>34</td>\n",
       "      <td>90089</td>\n",
       "      <td>3</td>\n",
       "      <td>1.5</td>\n",
       "      <td>Undergraduate</td>\n",
       "      <td>0</td>\n",
       "      <td>Not Taken</td>\n",
       "      <td>Have</td>\n",
       "      <td>Does Not Have</td>\n",
       "      <td>Not Using</td>\n",
       "      <td>Does Not Have</td>\n",
       "    </tr>\n",
       "    <tr>\n",
       "      <th>2</th>\n",
       "      <td>3</td>\n",
       "      <td>39</td>\n",
       "      <td>15</td>\n",
       "      <td>11</td>\n",
       "      <td>94720</td>\n",
       "      <td>1</td>\n",
       "      <td>1.0</td>\n",
       "      <td>Undergraduate</td>\n",
       "      <td>0</td>\n",
       "      <td>Not Taken</td>\n",
       "      <td>Does Not Have</td>\n",
       "      <td>Does Not Have</td>\n",
       "      <td>Not Using</td>\n",
       "      <td>Does Not Have</td>\n",
       "    </tr>\n",
       "    <tr>\n",
       "      <th>3</th>\n",
       "      <td>4</td>\n",
       "      <td>35</td>\n",
       "      <td>9</td>\n",
       "      <td>100</td>\n",
       "      <td>94112</td>\n",
       "      <td>1</td>\n",
       "      <td>2.7</td>\n",
       "      <td>Graduate</td>\n",
       "      <td>0</td>\n",
       "      <td>Not Taken</td>\n",
       "      <td>Does Not Have</td>\n",
       "      <td>Does Not Have</td>\n",
       "      <td>Not Using</td>\n",
       "      <td>Does Not Have</td>\n",
       "    </tr>\n",
       "    <tr>\n",
       "      <th>4</th>\n",
       "      <td>5</td>\n",
       "      <td>35</td>\n",
       "      <td>8</td>\n",
       "      <td>45</td>\n",
       "      <td>91330</td>\n",
       "      <td>4</td>\n",
       "      <td>1.0</td>\n",
       "      <td>Graduate</td>\n",
       "      <td>0</td>\n",
       "      <td>Not Taken</td>\n",
       "      <td>Does Not Have</td>\n",
       "      <td>Does Not Have</td>\n",
       "      <td>Not Using</td>\n",
       "      <td>Have</td>\n",
       "    </tr>\n",
       "    <tr>\n",
       "      <th>...</th>\n",
       "      <td>...</td>\n",
       "      <td>...</td>\n",
       "      <td>...</td>\n",
       "      <td>...</td>\n",
       "      <td>...</td>\n",
       "      <td>...</td>\n",
       "      <td>...</td>\n",
       "      <td>...</td>\n",
       "      <td>...</td>\n",
       "      <td>...</td>\n",
       "      <td>...</td>\n",
       "      <td>...</td>\n",
       "      <td>...</td>\n",
       "      <td>...</td>\n",
       "    </tr>\n",
       "    <tr>\n",
       "      <th>4995</th>\n",
       "      <td>4996</td>\n",
       "      <td>29</td>\n",
       "      <td>3</td>\n",
       "      <td>40</td>\n",
       "      <td>92697</td>\n",
       "      <td>1</td>\n",
       "      <td>1.9</td>\n",
       "      <td>Professional</td>\n",
       "      <td>0</td>\n",
       "      <td>Not Taken</td>\n",
       "      <td>Does Not Have</td>\n",
       "      <td>Does Not Have</td>\n",
       "      <td>Using</td>\n",
       "      <td>Does Not Have</td>\n",
       "    </tr>\n",
       "    <tr>\n",
       "      <th>4996</th>\n",
       "      <td>4997</td>\n",
       "      <td>30</td>\n",
       "      <td>4</td>\n",
       "      <td>15</td>\n",
       "      <td>92037</td>\n",
       "      <td>4</td>\n",
       "      <td>0.4</td>\n",
       "      <td>Undergraduate</td>\n",
       "      <td>85</td>\n",
       "      <td>Not Taken</td>\n",
       "      <td>Does Not Have</td>\n",
       "      <td>Does Not Have</td>\n",
       "      <td>Using</td>\n",
       "      <td>Does Not Have</td>\n",
       "    </tr>\n",
       "    <tr>\n",
       "      <th>4997</th>\n",
       "      <td>4998</td>\n",
       "      <td>63</td>\n",
       "      <td>39</td>\n",
       "      <td>24</td>\n",
       "      <td>93023</td>\n",
       "      <td>2</td>\n",
       "      <td>0.3</td>\n",
       "      <td>Professional</td>\n",
       "      <td>0</td>\n",
       "      <td>Not Taken</td>\n",
       "      <td>Does Not Have</td>\n",
       "      <td>Does Not Have</td>\n",
       "      <td>Not Using</td>\n",
       "      <td>Does Not Have</td>\n",
       "    </tr>\n",
       "    <tr>\n",
       "      <th>4998</th>\n",
       "      <td>4999</td>\n",
       "      <td>65</td>\n",
       "      <td>40</td>\n",
       "      <td>49</td>\n",
       "      <td>90034</td>\n",
       "      <td>3</td>\n",
       "      <td>0.5</td>\n",
       "      <td>Graduate</td>\n",
       "      <td>0</td>\n",
       "      <td>Not Taken</td>\n",
       "      <td>Does Not Have</td>\n",
       "      <td>Does Not Have</td>\n",
       "      <td>Using</td>\n",
       "      <td>Does Not Have</td>\n",
       "    </tr>\n",
       "    <tr>\n",
       "      <th>4999</th>\n",
       "      <td>5000</td>\n",
       "      <td>28</td>\n",
       "      <td>4</td>\n",
       "      <td>83</td>\n",
       "      <td>92612</td>\n",
       "      <td>3</td>\n",
       "      <td>0.8</td>\n",
       "      <td>Undergraduate</td>\n",
       "      <td>0</td>\n",
       "      <td>Not Taken</td>\n",
       "      <td>Does Not Have</td>\n",
       "      <td>Does Not Have</td>\n",
       "      <td>Using</td>\n",
       "      <td>Have</td>\n",
       "    </tr>\n",
       "  </tbody>\n",
       "</table>\n",
       "<p>5000 rows × 14 columns</p>\n",
       "</div>"
      ],
      "text/plain": [
       "        ID  Age  Experience  Income  ZIP Code  Family  CCAvg      Education  \\\n",
       "0        1   25           1      49     91107       4    1.6  Undergraduate   \n",
       "1        2   45          19      34     90089       3    1.5  Undergraduate   \n",
       "2        3   39          15      11     94720       1    1.0  Undergraduate   \n",
       "3        4   35           9     100     94112       1    2.7       Graduate   \n",
       "4        5   35           8      45     91330       4    1.0       Graduate   \n",
       "...    ...  ...         ...     ...       ...     ...    ...            ...   \n",
       "4995  4996   29           3      40     92697       1    1.9   Professional   \n",
       "4996  4997   30           4      15     92037       4    0.4  Undergraduate   \n",
       "4997  4998   63          39      24     93023       2    0.3   Professional   \n",
       "4998  4999   65          40      49     90034       3    0.5       Graduate   \n",
       "4999  5000   28           4      83     92612       3    0.8  Undergraduate   \n",
       "\n",
       "      Mortgage Personal Loan Securities Account     CD Account     Online  \\\n",
       "0            0     Not Taken               Have  Does Not Have  Not Using   \n",
       "1            0     Not Taken               Have  Does Not Have  Not Using   \n",
       "2            0     Not Taken      Does Not Have  Does Not Have  Not Using   \n",
       "3            0     Not Taken      Does Not Have  Does Not Have  Not Using   \n",
       "4            0     Not Taken      Does Not Have  Does Not Have  Not Using   \n",
       "...        ...           ...                ...            ...        ...   \n",
       "4995         0     Not Taken      Does Not Have  Does Not Have      Using   \n",
       "4996        85     Not Taken      Does Not Have  Does Not Have      Using   \n",
       "4997         0     Not Taken      Does Not Have  Does Not Have  Not Using   \n",
       "4998         0     Not Taken      Does Not Have  Does Not Have      Using   \n",
       "4999         0     Not Taken      Does Not Have  Does Not Have      Using   \n",
       "\n",
       "         CreditCard  \n",
       "0     Does Not Have  \n",
       "1     Does Not Have  \n",
       "2     Does Not Have  \n",
       "3     Does Not Have  \n",
       "4              Have  \n",
       "...             ...  \n",
       "4995  Does Not Have  \n",
       "4996  Does Not Have  \n",
       "4997  Does Not Have  \n",
       "4998  Does Not Have  \n",
       "4999           Have  \n",
       "\n",
       "[5000 rows x 14 columns]"
      ]
     },
     "execution_count": 94,
     "metadata": {},
     "output_type": "execute_result"
    }
   ],
   "source": [
    "dataset"
   ]
  },
  {
   "cell_type": "code",
   "execution_count": 95,
   "id": "cathedral-serial",
   "metadata": {},
   "outputs": [
    {
     "data": {
      "text/plain": [
       "Not Taken    4520\n",
       "Taken         480\n",
       "Name: Personal Loan, dtype: int64"
      ]
     },
     "execution_count": 95,
     "metadata": {},
     "output_type": "execute_result"
    }
   ],
   "source": [
    "# Class Distribution of Target Variable\n",
    "\n",
    "dataset[\"Personal Loan\"].value_counts() "
   ]
  },
  {
   "cell_type": "code",
   "execution_count": 96,
   "id": "vietnamese-routine",
   "metadata": {},
   "outputs": [],
   "source": [
    "loan_count=dataset[\"Personal Loan\"].value_counts()"
   ]
  },
  {
   "cell_type": "code",
   "execution_count": 97,
   "id": "constant-laundry",
   "metadata": {},
   "outputs": [
    {
     "data": {
      "image/png": "[encoded data removed]",
      "text/plain": [
       "<Figure size 432x432 with 1 Axes>"
      ]
     },
     "metadata": {},
     "output_type": "display_data"
    }
   ],
   "source": [
    "plt.figure(figsize=(6, 6))\n",
    "plt.pie(loan_count,labels=[\"Not Taken Loan \", \"Taken Loan\"], autopct=\"%1.1f%%\", startangle=90)\n",
    "plt.title(\"Distribution of Loan Taken Status\")\n",
    "plt.show()"
   ]
  },
  {
   "cell_type": "markdown",
   "id": "experimental-watson",
   "metadata": {},
   "source": [
    "**OBSERVATION**\n",
    "\n",
    "---\n",
    "\n",
    "1. From above pie chart we can see that our target variable distribution is highly imbalanced.\n",
    "2. Majority of the customers Not taken the personal loan **(90.40%)**\n",
    "3. Only **(9.60%)** customers has taken the loan.\n"
   ]
  },
  {
   "cell_type": "code",
   "execution_count": 98,
   "id": "informative-battery",
   "metadata": {},
   "outputs": [
    {
     "data": {
      "text/plain": [
       "<AxesSubplot:xlabel='Education', ylabel='count'>"
      ]
     },
     "execution_count": 98,
     "metadata": {},
     "output_type": "execute_result"
    },
    {
     "data": {
      "image/png": "[encoded data removed]",
      "text/plain": [
       "<Figure size 432x288 with 1 Axes>"
      ]
     },
     "metadata": {
      "needs_background": "light"
     },
     "output_type": "display_data"
    }
   ],
   "source": [
    "sns.countplot(x=\"Education\",data=dataset,hue=\"Personal Loan\",palette=\"Set2\")"
   ]
  },
  {
   "cell_type": "markdown",
   "id": "large-andrew",
   "metadata": {},
   "source": [
    "**OBSERVATION**\n",
    "1. Customers that belong to education category **Graduation** and **Professional** have taken more Personal Loan then the **Undergraduate** class."
   ]
  },
  {
   "cell_type": "code",
   "execution_count": 99,
   "id": "minimal-rachel",
   "metadata": {},
   "outputs": [
    {
     "data": {
      "text/plain": [
       "<AxesSubplot:xlabel='Family', ylabel='count'>"
      ]
     },
     "execution_count": 99,
     "metadata": {},
     "output_type": "execute_result"
    },
    {
     "data": {
      "image/png": "[encoded data removed]",
      "text/plain": [
       "<Figure size 432x288 with 1 Axes>"
      ]
     },
     "metadata": {
      "needs_background": "light"
     },
     "output_type": "display_data"
    }
   ],
   "source": [
    "sns.countplot(x='Family',data=dataset,hue=\"Personal Loan\",palette=\"viridis\")"
   ]
  },
  {
   "cell_type": "markdown",
   "id": "spread-scientist",
   "metadata": {},
   "source": [
    "**OBSERVATION**\n",
    "\n",
    "---\n",
    "1. Family size of 3 and 4 members are tending to take Personal Loan."
   ]
  },
  {
   "cell_type": "code",
   "execution_count": 100,
   "id": "northern-zoning",
   "metadata": {},
   "outputs": [
    {
     "data": {
      "text/plain": [
       "<AxesSubplot:xlabel='Securities Account', ylabel='count'>"
      ]
     },
     "execution_count": 100,
     "metadata": {},
     "output_type": "execute_result"
    },
    {
     "data": {
      "image/png": "[encoded data removed]",
      "text/plain": [
       "<Figure size 432x288 with 1 Axes>"
      ]
     },
     "metadata": {
      "needs_background": "light"
     },
     "output_type": "display_data"
    }
   ],
   "source": [
    "sns.countplot(x=\"Securities Account\",data=dataset,hue=\"Personal Loan\",palette=\"Set1\")"
   ]
  },
  {
   "cell_type": "markdown",
   "id": "eight-cable",
   "metadata": {},
   "source": [
    "**OBSERVATION**\n",
    "\n",
    "---\n",
    "\n",
    "1. The customers who do not have a securities A/C have taken more loans compared to those who have a securities A/C."
   ]
  },
  {
   "cell_type": "code",
   "execution_count": 101,
   "id": "innocent-contents",
   "metadata": {},
   "outputs": [
    {
     "data": {
      "text/plain": [
       "<AxesSubplot:xlabel='CD Account', ylabel='count'>"
      ]
     },
     "execution_count": 101,
     "metadata": {},
     "output_type": "execute_result"
    },
    {
     "data": {
      "image/png": "[encoded data removed]",
      "text/plain": [
       "<Figure size 432x288 with 1 Axes>"
      ]
     },
     "metadata": {
      "needs_background": "light"
     },
     "output_type": "display_data"
    }
   ],
   "source": [
    "sns.countplot(x=\"CD Account\",data=dataset,hue=\"Personal Loan\",palette=\"Set1\")"
   ]
  },
  {
   "cell_type": "markdown",
   "id": "worst-framework",
   "metadata": {},
   "source": [
    "**OBSERVATION**\n",
    "\n",
    "---\n",
    "\n",
    "\n",
    "1. We can see that customers who have a **Certificate of Deposit (CDAccount)** have mostly taken a Personal Loan.\n",
    "\n",
    "2. Who do not have **Certificate of Deposit(CDAccount)** Most of them is not taken the personal loan."
   ]
  },
  {
   "cell_type": "code",
   "execution_count": 102,
   "id": "approximate-questionnaire",
   "metadata": {},
   "outputs": [
    {
     "data": {
      "text/plain": [
       "<AxesSubplot:xlabel='Online', ylabel='count'>"
      ]
     },
     "execution_count": 102,
     "metadata": {},
     "output_type": "execute_result"
    },
    {
     "data": {
      "image/png": "[encoded data removed]",
      "text/plain": [
       "<Figure size 432x288 with 1 Axes>"
      ]
     },
     "metadata": {
      "needs_background": "light"
     },
     "output_type": "display_data"
    }
   ],
   "source": [
    "sns.countplot(x=\"Online\",data=dataset,hue=\"Personal Loan\",palette=\"Set1\")"
   ]
  },
  {
   "cell_type": "markdown",
   "id": "compact-visit",
   "metadata": {},
   "source": [
    "**OBSERVATION**\n",
    "\n",
    "---\n",
    "1. Customers who use **online banking** services are more likely to have a higher number of personal loans than those who do not use online services."
   ]
  },
  {
   "cell_type": "code",
   "execution_count": 103,
   "id": "flush-paintball",
   "metadata": {},
   "outputs": [
    {
     "data": {
      "text/plain": [
       "<AxesSubplot:xlabel='CreditCard', ylabel='count'>"
      ]
     },
     "execution_count": 103,
     "metadata": {},
     "output_type": "execute_result"
    },
    {
     "data": {
      "image/png": "[encoded data removed]",
      "text/plain": [
       "<Figure size 432x288 with 1 Axes>"
      ]
     },
     "metadata": {
      "needs_background": "light"
     },
     "output_type": "display_data"
    }
   ],
   "source": [
    "sns.countplot(x=\"CreditCard\",data=dataset,hue=\"Personal Loan\",palette=\"Set1\")"
   ]
  },
  {
   "cell_type": "markdown",
   "id": "matched-pricing",
   "metadata": {},
   "source": [
    "**OBSERVATION**\n",
    "\n",
    "---\n",
    "1. Most people who have a **credit card** do not seem to take out a personal loan."
   ]
  },
  {
   "cell_type": "code",
   "execution_count": 104,
   "id": "molecular-priority",
   "metadata": {},
   "outputs": [],
   "source": [
    "# Now, Lets replace the original Numerical values back in the dataset\n",
    "\n",
    "dataset[\"Personal Loan\"]=dataset[\"Personal Loan\"].replace({\"Not Taken\":0,\"Taken\":1})\n",
    "dataset[\"Education\"]=dataset[\"Education\"].replace({\"Undergraduate\":1,\"Graduate\":2,\"Professional\":3})\n",
    "dataset[\"Securities Account\"]=dataset[\"Securities Account\"].replace({\"Does Not Have\":0,\"Have\":1})\n",
    "dataset[\"CD Account\"]=dataset[\"CD Account\"].replace({\"Does Not Have\":0,\"Have\":1})\n",
    "dataset[\"Online\"]=dataset[\"Online\"].replace({\"Not Using\":0,\"Using\":1})\n",
    "dataset[\"CreditCard\"]=dataset[\"CreditCard\"].replace({\"Does Not Have\":0,\"Have\":1})   "
   ]
  },
  {
   "cell_type": "code",
   "execution_count": 105,
   "id": "permanent-retrieval",
   "metadata": {},
   "outputs": [
    {
     "data": {
      "text/html": [
       "<div>\n",
       "<style scoped>\n",
       "    .dataframe tbody tr th:only-of-type {\n",
       "        vertical-align: middle;\n",
       "    }\n",
       "\n",
       "    .dataframe tbody tr th {\n",
       "        vertical-align: top;\n",
       "    }\n",
       "\n",
       "    .dataframe thead th {\n",
       "        text-align: right;\n",
       "    }\n",
       "</style>\n",
       "<table border=\"1\" class=\"dataframe\">\n",
       "  <thead>\n",
       "    <tr style=\"text-align: right;\">\n",
       "      <th></th>\n",
       "      <th>ID</th>\n",
       "      <th>Age</th>\n",
       "      <th>Experience</th>\n",
       "      <th>Income</th>\n",
       "      <th>ZIP Code</th>\n",
       "      <th>Family</th>\n",
       "      <th>CCAvg</th>\n",
       "      <th>Education</th>\n",
       "      <th>Mortgage</th>\n",
       "      <th>Personal Loan</th>\n",
       "      <th>Securities Account</th>\n",
       "      <th>CD Account</th>\n",
       "      <th>Online</th>\n",
       "      <th>CreditCard</th>\n",
       "    </tr>\n",
       "  </thead>\n",
       "  <tbody>\n",
       "    <tr>\n",
       "      <th>0</th>\n",
       "      <td>1</td>\n",
       "      <td>25</td>\n",
       "      <td>1</td>\n",
       "      <td>49</td>\n",
       "      <td>91107</td>\n",
       "      <td>4</td>\n",
       "      <td>1.6</td>\n",
       "      <td>1</td>\n",
       "      <td>0</td>\n",
       "      <td>0</td>\n",
       "      <td>1</td>\n",
       "      <td>0</td>\n",
       "      <td>0</td>\n",
       "      <td>0</td>\n",
       "    </tr>\n",
       "    <tr>\n",
       "      <th>1</th>\n",
       "      <td>2</td>\n",
       "      <td>45</td>\n",
       "      <td>19</td>\n",
       "      <td>34</td>\n",
       "      <td>90089</td>\n",
       "      <td>3</td>\n",
       "      <td>1.5</td>\n",
       "      <td>1</td>\n",
       "      <td>0</td>\n",
       "      <td>0</td>\n",
       "      <td>1</td>\n",
       "      <td>0</td>\n",
       "      <td>0</td>\n",
       "      <td>0</td>\n",
       "    </tr>\n",
       "    <tr>\n",
       "      <th>2</th>\n",
       "      <td>3</td>\n",
       "      <td>39</td>\n",
       "      <td>15</td>\n",
       "      <td>11</td>\n",
       "      <td>94720</td>\n",
       "      <td>1</td>\n",
       "      <td>1.0</td>\n",
       "      <td>1</td>\n",
       "      <td>0</td>\n",
       "      <td>0</td>\n",
       "      <td>0</td>\n",
       "      <td>0</td>\n",
       "      <td>0</td>\n",
       "      <td>0</td>\n",
       "    </tr>\n",
       "    <tr>\n",
       "      <th>3</th>\n",
       "      <td>4</td>\n",
       "      <td>35</td>\n",
       "      <td>9</td>\n",
       "      <td>100</td>\n",
       "      <td>94112</td>\n",
       "      <td>1</td>\n",
       "      <td>2.7</td>\n",
       "      <td>2</td>\n",
       "      <td>0</td>\n",
       "      <td>0</td>\n",
       "      <td>0</td>\n",
       "      <td>0</td>\n",
       "      <td>0</td>\n",
       "      <td>0</td>\n",
       "    </tr>\n",
       "    <tr>\n",
       "      <th>4</th>\n",
       "      <td>5</td>\n",
       "      <td>35</td>\n",
       "      <td>8</td>\n",
       "      <td>45</td>\n",
       "      <td>91330</td>\n",
       "      <td>4</td>\n",
       "      <td>1.0</td>\n",
       "      <td>2</td>\n",
       "      <td>0</td>\n",
       "      <td>0</td>\n",
       "      <td>0</td>\n",
       "      <td>0</td>\n",
       "      <td>0</td>\n",
       "      <td>1</td>\n",
       "    </tr>\n",
       "    <tr>\n",
       "      <th>...</th>\n",
       "      <td>...</td>\n",
       "      <td>...</td>\n",
       "      <td>...</td>\n",
       "      <td>...</td>\n",
       "      <td>...</td>\n",
       "      <td>...</td>\n",
       "      <td>...</td>\n",
       "      <td>...</td>\n",
       "      <td>...</td>\n",
       "      <td>...</td>\n",
       "      <td>...</td>\n",
       "      <td>...</td>\n",
       "      <td>...</td>\n",
       "      <td>...</td>\n",
       "    </tr>\n",
       "    <tr>\n",
       "      <th>4995</th>\n",
       "      <td>4996</td>\n",
       "      <td>29</td>\n",
       "      <td>3</td>\n",
       "      <td>40</td>\n",
       "      <td>92697</td>\n",
       "      <td>1</td>\n",
       "      <td>1.9</td>\n",
       "      <td>3</td>\n",
       "      <td>0</td>\n",
       "      <td>0</td>\n",
       "      <td>0</td>\n",
       "      <td>0</td>\n",
       "      <td>1</td>\n",
       "      <td>0</td>\n",
       "    </tr>\n",
       "    <tr>\n",
       "      <th>4996</th>\n",
       "      <td>4997</td>\n",
       "      <td>30</td>\n",
       "      <td>4</td>\n",
       "      <td>15</td>\n",
       "      <td>92037</td>\n",
       "      <td>4</td>\n",
       "      <td>0.4</td>\n",
       "      <td>1</td>\n",
       "      <td>85</td>\n",
       "      <td>0</td>\n",
       "      <td>0</td>\n",
       "      <td>0</td>\n",
       "      <td>1</td>\n",
       "      <td>0</td>\n",
       "    </tr>\n",
       "    <tr>\n",
       "      <th>4997</th>\n",
       "      <td>4998</td>\n",
       "      <td>63</td>\n",
       "      <td>39</td>\n",
       "      <td>24</td>\n",
       "      <td>93023</td>\n",
       "      <td>2</td>\n",
       "      <td>0.3</td>\n",
       "      <td>3</td>\n",
       "      <td>0</td>\n",
       "      <td>0</td>\n",
       "      <td>0</td>\n",
       "      <td>0</td>\n",
       "      <td>0</td>\n",
       "      <td>0</td>\n",
       "    </tr>\n",
       "    <tr>\n",
       "      <th>4998</th>\n",
       "      <td>4999</td>\n",
       "      <td>65</td>\n",
       "      <td>40</td>\n",
       "      <td>49</td>\n",
       "      <td>90034</td>\n",
       "      <td>3</td>\n",
       "      <td>0.5</td>\n",
       "      <td>2</td>\n",
       "      <td>0</td>\n",
       "      <td>0</td>\n",
       "      <td>0</td>\n",
       "      <td>0</td>\n",
       "      <td>1</td>\n",
       "      <td>0</td>\n",
       "    </tr>\n",
       "    <tr>\n",
       "      <th>4999</th>\n",
       "      <td>5000</td>\n",
       "      <td>28</td>\n",
       "      <td>4</td>\n",
       "      <td>83</td>\n",
       "      <td>92612</td>\n",
       "      <td>3</td>\n",
       "      <td>0.8</td>\n",
       "      <td>1</td>\n",
       "      <td>0</td>\n",
       "      <td>0</td>\n",
       "      <td>0</td>\n",
       "      <td>0</td>\n",
       "      <td>1</td>\n",
       "      <td>1</td>\n",
       "    </tr>\n",
       "  </tbody>\n",
       "</table>\n",
       "<p>5000 rows × 14 columns</p>\n",
       "</div>"
      ],
      "text/plain": [
       "        ID  Age  Experience  Income  ZIP Code  Family  CCAvg  Education  \\\n",
       "0        1   25           1      49     91107       4    1.6          1   \n",
       "1        2   45          19      34     90089       3    1.5          1   \n",
       "2        3   39          15      11     94720       1    1.0          1   \n",
       "3        4   35           9     100     94112       1    2.7          2   \n",
       "4        5   35           8      45     91330       4    1.0          2   \n",
       "...    ...  ...         ...     ...       ...     ...    ...        ...   \n",
       "4995  4996   29           3      40     92697       1    1.9          3   \n",
       "4996  4997   30           4      15     92037       4    0.4          1   \n",
       "4997  4998   63          39      24     93023       2    0.3          3   \n",
       "4998  4999   65          40      49     90034       3    0.5          2   \n",
       "4999  5000   28           4      83     92612       3    0.8          1   \n",
       "\n",
       "      Mortgage  Personal Loan  Securities Account  CD Account  Online  \\\n",
       "0            0              0                   1           0       0   \n",
       "1            0              0                   1           0       0   \n",
       "2            0              0                   0           0       0   \n",
       "3            0              0                   0           0       0   \n",
       "4            0              0                   0           0       0   \n",
       "...        ...            ...                 ...         ...     ...   \n",
       "4995         0              0                   0           0       1   \n",
       "4996        85              0                   0           0       1   \n",
       "4997         0              0                   0           0       0   \n",
       "4998         0              0                   0           0       1   \n",
       "4999         0              0                   0           0       1   \n",
       "\n",
       "      CreditCard  \n",
       "0              0  \n",
       "1              0  \n",
       "2              0  \n",
       "3              0  \n",
       "4              1  \n",
       "...          ...  \n",
       "4995           0  \n",
       "4996           0  \n",
       "4997           0  \n",
       "4998           0  \n",
       "4999           1  \n",
       "\n",
       "[5000 rows x 14 columns]"
      ]
     },
     "execution_count": 105,
     "metadata": {},
     "output_type": "execute_result"
    }
   ],
   "source": [
    "dataset"
   ]
  },
  {
   "cell_type": "code",
   "execution_count": 106,
   "id": "dangerous-dress",
   "metadata": {},
   "outputs": [],
   "source": [
    "# Checking the Outliers\n",
    "columns_to_plot = ['Age','Income', 'Family', 'CCAvg', 'Education', 'Mortgage' ,'Securities Account', 'CD Account', 'Online', 'CreditCard']"
   ]
  },
  {
   "cell_type": "code",
   "execution_count": 107,
   "id": "conventional-maldives",
   "metadata": {},
   "outputs": [
    {
     "data": {
      "image/png": "[encoded data removed]",
      "text/plain": [
       "<Figure size 720x576 with 1 Axes>"
      ]
     },
     "metadata": {
      "needs_background": "light"
     },
     "output_type": "display_data"
    }
   ],
   "source": [
    "dataset[columns_to_plot].plot(kind=\"box\", figsize=(10, 8))\n",
    "plt.title(\"Box Plot for Dataset Features\")\n",
    "plt.ylabel(\"Values\")\n",
    "plt.xticks(rotation=45)  # Rotating x-axis labels for better readability\n",
    "plt.show()"
   ]
  },
  {
   "cell_type": "markdown",
   "id": "downtown-potter",
   "metadata": {},
   "source": [
    "**Box Plot**\n",
    "\n",
    "\n",
    "---\n",
    "1. We can see that (Income,CCavg,Mortgage,Securities Account,CD Account) in this column some outliers are there.\n",
    "2. Income is not fixed .it is based on several factors.\n",
    "3. CCAvg is not fixed and it based on the spending behavior of the credit cardholder.\n",
    "4. Mortage is also depend on the individuals.\n",
    "5. Securities Account & CD Account having values in format of 0 & 1.\n",
    "(0:means not having account,1:means having account)\n",
    "6. I dont think so that the **outliers** are **Error** points.\n"
   ]
  },
  {
   "cell_type": "code",
   "execution_count": 108,
   "id": "seventh-chess",
   "metadata": {},
   "outputs": [
    {
     "data": {
      "image/png": "[encoded data removed]",
      "text/plain": [
       "<Figure size 936x576 with 2 Axes>"
      ]
     },
     "metadata": {
      "needs_background": "light"
     },
     "output_type": "display_data"
    }
   ],
   "source": [
    "# Visualizing the Correlation Heatmap\n",
    "correlation_matrix = dataset.corr()\n",
    "plt.figure(figsize=(13,8))\n",
    "sns.heatmap(correlation_matrix,annot=True,cmap=\"coolwarm\")\n",
    "plt.title('Correlation Heatmap')\n",
    "plt.show()"
   ]
  },
  {
   "cell_type": "markdown",
   "id": "caroline-pioneer",
   "metadata": {},
   "source": [
    "**OBSERVATION**\n",
    "\n",
    "\n",
    "---\n",
    "\n",
    "1. **\"Experience\"** and **\"Age\"** looks like highly positively correlated with each other.We can remove one of the variable to avoid multi-collinearity problem.\n",
    "2. The other point is **\"CCavg\"** & **\"Income\"** is also correlated with each other.\n",
    "3. But **\"CCAvg\"** contains values in month & **\"Income\"** contains values in annually.\n",
    "4. we need to convert **\"CCAvg\"** in Annual."
   ]
  },
  {
   "cell_type": "markdown",
   "id": "dimensional-republic",
   "metadata": {},
   "source": [
    "# **Preprocessing**"
   ]
  },
  {
   "cell_type": "code",
   "execution_count": 109,
   "id": "connected-jersey",
   "metadata": {},
   "outputs": [],
   "source": [
    "# Replace \"CCAvg\" with Annual \n",
    "\n",
    "dataset['CCAvg'] = dataset['CCAvg']*12"
   ]
  },
  {
   "cell_type": "code",
   "execution_count": 110,
   "id": "favorite-socket",
   "metadata": {
    "scrolled": true
   },
   "outputs": [
    {
     "data": {
      "text/html": [
       "<div>\n",
       "<style scoped>\n",
       "    .dataframe tbody tr th:only-of-type {\n",
       "        vertical-align: middle;\n",
       "    }\n",
       "\n",
       "    .dataframe tbody tr th {\n",
       "        vertical-align: top;\n",
       "    }\n",
       "\n",
       "    .dataframe thead th {\n",
       "        text-align: right;\n",
       "    }\n",
       "</style>\n",
       "<table border=\"1\" class=\"dataframe\">\n",
       "  <thead>\n",
       "    <tr style=\"text-align: right;\">\n",
       "      <th></th>\n",
       "      <th>ID</th>\n",
       "      <th>Age</th>\n",
       "      <th>Experience</th>\n",
       "      <th>Income</th>\n",
       "      <th>ZIP Code</th>\n",
       "      <th>Family</th>\n",
       "      <th>CCAvg</th>\n",
       "      <th>Education</th>\n",
       "      <th>Mortgage</th>\n",
       "      <th>Personal Loan</th>\n",
       "      <th>Securities Account</th>\n",
       "      <th>CD Account</th>\n",
       "      <th>Online</th>\n",
       "      <th>CreditCard</th>\n",
       "    </tr>\n",
       "  </thead>\n",
       "  <tbody>\n",
       "    <tr>\n",
       "      <th>0</th>\n",
       "      <td>1</td>\n",
       "      <td>25</td>\n",
       "      <td>1</td>\n",
       "      <td>49</td>\n",
       "      <td>91107</td>\n",
       "      <td>4</td>\n",
       "      <td>19.2</td>\n",
       "      <td>1</td>\n",
       "      <td>0</td>\n",
       "      <td>0</td>\n",
       "      <td>1</td>\n",
       "      <td>0</td>\n",
       "      <td>0</td>\n",
       "      <td>0</td>\n",
       "    </tr>\n",
       "    <tr>\n",
       "      <th>1</th>\n",
       "      <td>2</td>\n",
       "      <td>45</td>\n",
       "      <td>19</td>\n",
       "      <td>34</td>\n",
       "      <td>90089</td>\n",
       "      <td>3</td>\n",
       "      <td>18.0</td>\n",
       "      <td>1</td>\n",
       "      <td>0</td>\n",
       "      <td>0</td>\n",
       "      <td>1</td>\n",
       "      <td>0</td>\n",
       "      <td>0</td>\n",
       "      <td>0</td>\n",
       "    </tr>\n",
       "    <tr>\n",
       "      <th>2</th>\n",
       "      <td>3</td>\n",
       "      <td>39</td>\n",
       "      <td>15</td>\n",
       "      <td>11</td>\n",
       "      <td>94720</td>\n",
       "      <td>1</td>\n",
       "      <td>12.0</td>\n",
       "      <td>1</td>\n",
       "      <td>0</td>\n",
       "      <td>0</td>\n",
       "      <td>0</td>\n",
       "      <td>0</td>\n",
       "      <td>0</td>\n",
       "      <td>0</td>\n",
       "    </tr>\n",
       "    <tr>\n",
       "      <th>3</th>\n",
       "      <td>4</td>\n",
       "      <td>35</td>\n",
       "      <td>9</td>\n",
       "      <td>100</td>\n",
       "      <td>94112</td>\n",
       "      <td>1</td>\n",
       "      <td>32.4</td>\n",
       "      <td>2</td>\n",
       "      <td>0</td>\n",
       "      <td>0</td>\n",
       "      <td>0</td>\n",
       "      <td>0</td>\n",
       "      <td>0</td>\n",
       "      <td>0</td>\n",
       "    </tr>\n",
       "    <tr>\n",
       "      <th>4</th>\n",
       "      <td>5</td>\n",
       "      <td>35</td>\n",
       "      <td>8</td>\n",
       "      <td>45</td>\n",
       "      <td>91330</td>\n",
       "      <td>4</td>\n",
       "      <td>12.0</td>\n",
       "      <td>2</td>\n",
       "      <td>0</td>\n",
       "      <td>0</td>\n",
       "      <td>0</td>\n",
       "      <td>0</td>\n",
       "      <td>0</td>\n",
       "      <td>1</td>\n",
       "    </tr>\n",
       "  </tbody>\n",
       "</table>\n",
       "</div>"
      ],
      "text/plain": [
       "   ID  Age  Experience  Income  ZIP Code  Family  CCAvg  Education  Mortgage  \\\n",
       "0   1   25           1      49     91107       4   19.2          1         0   \n",
       "1   2   45          19      34     90089       3   18.0          1         0   \n",
       "2   3   39          15      11     94720       1   12.0          1         0   \n",
       "3   4   35           9     100     94112       1   32.4          2         0   \n",
       "4   5   35           8      45     91330       4   12.0          2         0   \n",
       "\n",
       "   Personal Loan  Securities Account  CD Account  Online  CreditCard  \n",
       "0              0                   1           0       0           0  \n",
       "1              0                   1           0       0           0  \n",
       "2              0                   0           0       0           0  \n",
       "3              0                   0           0       0           0  \n",
       "4              0                   0           0       0           1  "
      ]
     },
     "execution_count": 110,
     "metadata": {},
     "output_type": "execute_result"
    }
   ],
   "source": [
    "dataset.head()"
   ]
  },
  {
   "cell_type": "code",
   "execution_count": 112,
   "id": "wireless-library",
   "metadata": {},
   "outputs": [],
   "source": [
    "dataset.drop([\"ID\", \"ZIP Code\"],inplace=True,axis=1)"
   ]
  },
  {
   "cell_type": "markdown",
   "id": "through-black",
   "metadata": {},
   "source": [
    "1. ID is uniformly distributed. Therefore, ID acts as an identifier and lacks valuable information for the model.\n",
    "2. ZIP Code contains a large number of categories .\n",
    "3. Therefore, it seems it lacks much informaton for our model."
   ]
  },
  {
   "cell_type": "code",
   "execution_count": 113,
   "id": "stuffed-advertiser",
   "metadata": {},
   "outputs": [
    {
     "data": {
      "text/html": [
       "<div>\n",
       "<style scoped>\n",
       "    .dataframe tbody tr th:only-of-type {\n",
       "        vertical-align: middle;\n",
       "    }\n",
       "\n",
       "    .dataframe tbody tr th {\n",
       "        vertical-align: top;\n",
       "    }\n",
       "\n",
       "    .dataframe thead th {\n",
       "        text-align: right;\n",
       "    }\n",
       "</style>\n",
       "<table border=\"1\" class=\"dataframe\">\n",
       "  <thead>\n",
       "    <tr style=\"text-align: right;\">\n",
       "      <th></th>\n",
       "      <th>Age</th>\n",
       "      <th>Experience</th>\n",
       "      <th>Income</th>\n",
       "      <th>Family</th>\n",
       "      <th>CCAvg</th>\n",
       "      <th>Education</th>\n",
       "      <th>Mortgage</th>\n",
       "      <th>Personal Loan</th>\n",
       "      <th>Securities Account</th>\n",
       "      <th>CD Account</th>\n",
       "      <th>Online</th>\n",
       "      <th>CreditCard</th>\n",
       "    </tr>\n",
       "  </thead>\n",
       "  <tbody>\n",
       "    <tr>\n",
       "      <th>0</th>\n",
       "      <td>25</td>\n",
       "      <td>1</td>\n",
       "      <td>49</td>\n",
       "      <td>4</td>\n",
       "      <td>19.2</td>\n",
       "      <td>1</td>\n",
       "      <td>0</td>\n",
       "      <td>0</td>\n",
       "      <td>1</td>\n",
       "      <td>0</td>\n",
       "      <td>0</td>\n",
       "      <td>0</td>\n",
       "    </tr>\n",
       "    <tr>\n",
       "      <th>1</th>\n",
       "      <td>45</td>\n",
       "      <td>19</td>\n",
       "      <td>34</td>\n",
       "      <td>3</td>\n",
       "      <td>18.0</td>\n",
       "      <td>1</td>\n",
       "      <td>0</td>\n",
       "      <td>0</td>\n",
       "      <td>1</td>\n",
       "      <td>0</td>\n",
       "      <td>0</td>\n",
       "      <td>0</td>\n",
       "    </tr>\n",
       "    <tr>\n",
       "      <th>2</th>\n",
       "      <td>39</td>\n",
       "      <td>15</td>\n",
       "      <td>11</td>\n",
       "      <td>1</td>\n",
       "      <td>12.0</td>\n",
       "      <td>1</td>\n",
       "      <td>0</td>\n",
       "      <td>0</td>\n",
       "      <td>0</td>\n",
       "      <td>0</td>\n",
       "      <td>0</td>\n",
       "      <td>0</td>\n",
       "    </tr>\n",
       "    <tr>\n",
       "      <th>3</th>\n",
       "      <td>35</td>\n",
       "      <td>9</td>\n",
       "      <td>100</td>\n",
       "      <td>1</td>\n",
       "      <td>32.4</td>\n",
       "      <td>2</td>\n",
       "      <td>0</td>\n",
       "      <td>0</td>\n",
       "      <td>0</td>\n",
       "      <td>0</td>\n",
       "      <td>0</td>\n",
       "      <td>0</td>\n",
       "    </tr>\n",
       "    <tr>\n",
       "      <th>4</th>\n",
       "      <td>35</td>\n",
       "      <td>8</td>\n",
       "      <td>45</td>\n",
       "      <td>4</td>\n",
       "      <td>12.0</td>\n",
       "      <td>2</td>\n",
       "      <td>0</td>\n",
       "      <td>0</td>\n",
       "      <td>0</td>\n",
       "      <td>0</td>\n",
       "      <td>0</td>\n",
       "      <td>1</td>\n",
       "    </tr>\n",
       "  </tbody>\n",
       "</table>\n",
       "</div>"
      ],
      "text/plain": [
       "   Age  Experience  Income  Family  CCAvg  Education  Mortgage  Personal Loan  \\\n",
       "0   25           1      49       4   19.2          1         0              0   \n",
       "1   45          19      34       3   18.0          1         0              0   \n",
       "2   39          15      11       1   12.0          1         0              0   \n",
       "3   35           9     100       1   32.4          2         0              0   \n",
       "4   35           8      45       4   12.0          2         0              0   \n",
       "\n",
       "   Securities Account  CD Account  Online  CreditCard  \n",
       "0                   1           0       0           0  \n",
       "1                   1           0       0           0  \n",
       "2                   0           0       0           0  \n",
       "3                   0           0       0           0  \n",
       "4                   0           0       0           1  "
      ]
     },
     "execution_count": 113,
     "metadata": {},
     "output_type": "execute_result"
    }
   ],
   "source": [
    "dataset.head()"
   ]
  },
  {
   "cell_type": "code",
   "execution_count": 114,
   "id": "vulnerable-inspiration",
   "metadata": {},
   "outputs": [],
   "source": [
    "dataset.drop(\"Experience\",inplace=True,axis=1)"
   ]
  },
  {
   "cell_type": "markdown",
   "id": "outstanding-edmonton",
   "metadata": {},
   "source": [
    "1. The dataset contains negative values for the Experience, which is unreasonable.\n",
    "2. Further in our heatmap exploration, we have found that experience has a high correlation to age and will be dropping this column so we don't necessarily have to handle negative values."
   ]
  },
  {
   "cell_type": "markdown",
   "id": "coordinated-danger",
   "metadata": {},
   "source": [
    "# Dividing into Independent (X) & Dependent (y) variables"
   ]
  },
  {
   "cell_type": "code",
   "execution_count": 115,
   "id": "modular-presence",
   "metadata": {},
   "outputs": [],
   "source": [
    "# SPLITING INTO INDEPENDENT & DEPENDENT FEATURES\n",
    "X=dataset.drop(\"Personal Loan\",axis=1)\n",
    "y=dataset[\"Personal Loan\"]"
   ]
  },
  {
   "cell_type": "markdown",
   "id": "close-footage",
   "metadata": {},
   "source": [
    "# **Train Test Split**"
   ]
  },
  {
   "cell_type": "code",
   "execution_count": 116,
   "id": "earned-bullet",
   "metadata": {},
   "outputs": [],
   "source": [
    "X_train,X_test,y_train,y_test=train_test_split(X,y,test_size=0.2,random_state=123,stratify=y)"
   ]
  },
  {
   "cell_type": "markdown",
   "id": "saved-structure",
   "metadata": {},
   "source": [
    "## Standard Scaler"
   ]
  },
  {
   "cell_type": "code",
   "execution_count": 117,
   "id": "stable-breach",
   "metadata": {},
   "outputs": [],
   "source": [
    "# Creating an object for numeric features \n",
    "numeric_columns=[\"Age\",\"Income\",\"CCAvg\",\"Mortgage\"]"
   ]
  },
  {
   "cell_type": "code",
   "execution_count": 118,
   "id": "narrow-coach",
   "metadata": {},
   "outputs": [],
   "source": [
    "sc = StandardScaler()\n",
    "X_train[numeric_columns] = sc.fit_transform(X_train[numeric_columns])\n",
    "X_test[numeric_columns] = sc.transform(X_test[numeric_columns])"
   ]
  },
  {
   "cell_type": "code",
   "execution_count": 119,
   "id": "atlantic-median",
   "metadata": {},
   "outputs": [
    {
     "data": {
      "text/html": [
       "<div>\n",
       "<style scoped>\n",
       "    .dataframe tbody tr th:only-of-type {\n",
       "        vertical-align: middle;\n",
       "    }\n",
       "\n",
       "    .dataframe tbody tr th {\n",
       "        vertical-align: top;\n",
       "    }\n",
       "\n",
       "    .dataframe thead th {\n",
       "        text-align: right;\n",
       "    }\n",
       "</style>\n",
       "<table border=\"1\" class=\"dataframe\">\n",
       "  <thead>\n",
       "    <tr style=\"text-align: right;\">\n",
       "      <th></th>\n",
       "      <th>Age</th>\n",
       "      <th>Income</th>\n",
       "      <th>Family</th>\n",
       "      <th>CCAvg</th>\n",
       "      <th>Education</th>\n",
       "      <th>Mortgage</th>\n",
       "      <th>Securities Account</th>\n",
       "      <th>CD Account</th>\n",
       "      <th>Online</th>\n",
       "      <th>CreditCard</th>\n",
       "    </tr>\n",
       "  </thead>\n",
       "  <tbody>\n",
       "    <tr>\n",
       "      <th>3115</th>\n",
       "      <td>-1.256633</td>\n",
       "      <td>0.794945</td>\n",
       "      <td>2</td>\n",
       "      <td>-0.990617</td>\n",
       "      <td>1</td>\n",
       "      <td>-0.559325</td>\n",
       "      <td>0</td>\n",
       "      <td>0</td>\n",
       "      <td>0</td>\n",
       "      <td>0</td>\n",
       "    </tr>\n",
       "    <tr>\n",
       "      <th>3261</th>\n",
       "      <td>1.641364</td>\n",
       "      <td>1.224918</td>\n",
       "      <td>1</td>\n",
       "      <td>1.048374</td>\n",
       "      <td>1</td>\n",
       "      <td>-0.559325</td>\n",
       "      <td>0</td>\n",
       "      <td>0</td>\n",
       "      <td>0</td>\n",
       "      <td>0</td>\n",
       "    </tr>\n",
       "    <tr>\n",
       "      <th>2733</th>\n",
       "      <td>0.851001</td>\n",
       "      <td>-0.043503</td>\n",
       "      <td>3</td>\n",
       "      <td>-0.933978</td>\n",
       "      <td>2</td>\n",
       "      <td>0.887982</td>\n",
       "      <td>0</td>\n",
       "      <td>0</td>\n",
       "      <td>0</td>\n",
       "      <td>0</td>\n",
       "    </tr>\n",
       "    <tr>\n",
       "      <th>1666</th>\n",
       "      <td>0.499729</td>\n",
       "      <td>2.493338</td>\n",
       "      <td>2</td>\n",
       "      <td>1.274929</td>\n",
       "      <td>2</td>\n",
       "      <td>-0.559325</td>\n",
       "      <td>0</td>\n",
       "      <td>0</td>\n",
       "      <td>1</td>\n",
       "      <td>0</td>\n",
       "    </tr>\n",
       "    <tr>\n",
       "      <th>1900</th>\n",
       "      <td>1.377910</td>\n",
       "      <td>-1.376419</td>\n",
       "      <td>4</td>\n",
       "      <td>-0.877340</td>\n",
       "      <td>2</td>\n",
       "      <td>-0.559325</td>\n",
       "      <td>0</td>\n",
       "      <td>0</td>\n",
       "      <td>1</td>\n",
       "      <td>0</td>\n",
       "    </tr>\n",
       "    <tr>\n",
       "      <th>...</th>\n",
       "      <td>...</td>\n",
       "      <td>...</td>\n",
       "      <td>...</td>\n",
       "      <td>...</td>\n",
       "      <td>...</td>\n",
       "      <td>...</td>\n",
       "      <td>...</td>\n",
       "      <td>...</td>\n",
       "      <td>...</td>\n",
       "      <td>...</td>\n",
       "    </tr>\n",
       "    <tr>\n",
       "      <th>2021</th>\n",
       "      <td>0.060638</td>\n",
       "      <td>0.622956</td>\n",
       "      <td>4</td>\n",
       "      <td>1.614761</td>\n",
       "      <td>3</td>\n",
       "      <td>-0.559325</td>\n",
       "      <td>0</td>\n",
       "      <td>0</td>\n",
       "      <td>1</td>\n",
       "      <td>0</td>\n",
       "    </tr>\n",
       "    <tr>\n",
       "      <th>3664</th>\n",
       "      <td>0.236275</td>\n",
       "      <td>-0.666963</td>\n",
       "      <td>3</td>\n",
       "      <td>-0.027760</td>\n",
       "      <td>2</td>\n",
       "      <td>-0.559325</td>\n",
       "      <td>0</td>\n",
       "      <td>0</td>\n",
       "      <td>1</td>\n",
       "      <td>0</td>\n",
       "    </tr>\n",
       "    <tr>\n",
       "      <th>2128</th>\n",
       "      <td>1.729182</td>\n",
       "      <td>-0.731459</td>\n",
       "      <td>1</td>\n",
       "      <td>-0.480869</td>\n",
       "      <td>3</td>\n",
       "      <td>-0.559325</td>\n",
       "      <td>0</td>\n",
       "      <td>0</td>\n",
       "      <td>0</td>\n",
       "      <td>0</td>\n",
       "    </tr>\n",
       "    <tr>\n",
       "      <th>1585</th>\n",
       "      <td>1.026638</td>\n",
       "      <td>1.224918</td>\n",
       "      <td>2</td>\n",
       "      <td>0.425349</td>\n",
       "      <td>1</td>\n",
       "      <td>-0.559325</td>\n",
       "      <td>0</td>\n",
       "      <td>0</td>\n",
       "      <td>0</td>\n",
       "      <td>0</td>\n",
       "    </tr>\n",
       "    <tr>\n",
       "      <th>638</th>\n",
       "      <td>-0.290634</td>\n",
       "      <td>-0.838953</td>\n",
       "      <td>3</td>\n",
       "      <td>-0.254315</td>\n",
       "      <td>1</td>\n",
       "      <td>-0.559325</td>\n",
       "      <td>0</td>\n",
       "      <td>0</td>\n",
       "      <td>0</td>\n",
       "      <td>0</td>\n",
       "    </tr>\n",
       "  </tbody>\n",
       "</table>\n",
       "<p>4000 rows × 10 columns</p>\n",
       "</div>"
      ],
      "text/plain": [
       "           Age    Income  Family     CCAvg  Education  Mortgage  \\\n",
       "3115 -1.256633  0.794945       2 -0.990617          1 -0.559325   \n",
       "3261  1.641364  1.224918       1  1.048374          1 -0.559325   \n",
       "2733  0.851001 -0.043503       3 -0.933978          2  0.887982   \n",
       "1666  0.499729  2.493338       2  1.274929          2 -0.559325   \n",
       "1900  1.377910 -1.376419       4 -0.877340          2 -0.559325   \n",
       "...        ...       ...     ...       ...        ...       ...   \n",
       "2021  0.060638  0.622956       4  1.614761          3 -0.559325   \n",
       "3664  0.236275 -0.666963       3 -0.027760          2 -0.559325   \n",
       "2128  1.729182 -0.731459       1 -0.480869          3 -0.559325   \n",
       "1585  1.026638  1.224918       2  0.425349          1 -0.559325   \n",
       "638  -0.290634 -0.838953       3 -0.254315          1 -0.559325   \n",
       "\n",
       "      Securities Account  CD Account  Online  CreditCard  \n",
       "3115                   0           0       0           0  \n",
       "3261                   0           0       0           0  \n",
       "2733                   0           0       0           0  \n",
       "1666                   0           0       1           0  \n",
       "1900                   0           0       1           0  \n",
       "...                  ...         ...     ...         ...  \n",
       "2021                   0           0       1           0  \n",
       "3664                   0           0       1           0  \n",
       "2128                   0           0       0           0  \n",
       "1585                   0           0       0           0  \n",
       "638                    0           0       0           0  \n",
       "\n",
       "[4000 rows x 10 columns]"
      ]
     },
     "execution_count": 119,
     "metadata": {},
     "output_type": "execute_result"
    }
   ],
   "source": [
    "# Ensuring that the scaling has been applied to the training data using the scaler.\n",
    "X_train"
   ]
  },
  {
   "cell_type": "code",
   "execution_count": 120,
   "id": "broke-automation",
   "metadata": {},
   "outputs": [
    {
     "data": {
      "text/html": [
       "<div>\n",
       "<style scoped>\n",
       "    .dataframe tbody tr th:only-of-type {\n",
       "        vertical-align: middle;\n",
       "    }\n",
       "\n",
       "    .dataframe tbody tr th {\n",
       "        vertical-align: top;\n",
       "    }\n",
       "\n",
       "    .dataframe thead th {\n",
       "        text-align: right;\n",
       "    }\n",
       "</style>\n",
       "<table border=\"1\" class=\"dataframe\">\n",
       "  <thead>\n",
       "    <tr style=\"text-align: right;\">\n",
       "      <th></th>\n",
       "      <th>Age</th>\n",
       "      <th>Income</th>\n",
       "      <th>Family</th>\n",
       "      <th>CCAvg</th>\n",
       "      <th>Education</th>\n",
       "      <th>Mortgage</th>\n",
       "      <th>Securities Account</th>\n",
       "      <th>CD Account</th>\n",
       "      <th>Online</th>\n",
       "      <th>CreditCard</th>\n",
       "    </tr>\n",
       "  </thead>\n",
       "  <tbody>\n",
       "    <tr>\n",
       "      <th>3817</th>\n",
       "      <td>1.729182</td>\n",
       "      <td>1.418406</td>\n",
       "      <td>1</td>\n",
       "      <td>-0.594146</td>\n",
       "      <td>1</td>\n",
       "      <td>-0.559325</td>\n",
       "      <td>0</td>\n",
       "      <td>0</td>\n",
       "      <td>0</td>\n",
       "      <td>0</td>\n",
       "    </tr>\n",
       "    <tr>\n",
       "      <th>1618</th>\n",
       "      <td>-1.432269</td>\n",
       "      <td>-0.967945</td>\n",
       "      <td>3</td>\n",
       "      <td>-0.537508</td>\n",
       "      <td>1</td>\n",
       "      <td>-0.559325</td>\n",
       "      <td>0</td>\n",
       "      <td>0</td>\n",
       "      <td>1</td>\n",
       "      <td>1</td>\n",
       "    </tr>\n",
       "    <tr>\n",
       "      <th>3188</th>\n",
       "      <td>0.851001</td>\n",
       "      <td>0.343473</td>\n",
       "      <td>2</td>\n",
       "      <td>1.444845</td>\n",
       "      <td>3</td>\n",
       "      <td>-0.559325</td>\n",
       "      <td>0</td>\n",
       "      <td>0</td>\n",
       "      <td>0</td>\n",
       "      <td>1</td>\n",
       "    </tr>\n",
       "    <tr>\n",
       "      <th>4396</th>\n",
       "      <td>-1.344451</td>\n",
       "      <td>-1.290424</td>\n",
       "      <td>4</td>\n",
       "      <td>-0.820701</td>\n",
       "      <td>3</td>\n",
       "      <td>-0.559325</td>\n",
       "      <td>0</td>\n",
       "      <td>0</td>\n",
       "      <td>1</td>\n",
       "      <td>0</td>\n",
       "    </tr>\n",
       "    <tr>\n",
       "      <th>101</th>\n",
       "      <td>1.377910</td>\n",
       "      <td>-0.946446</td>\n",
       "      <td>3</td>\n",
       "      <td>-0.367592</td>\n",
       "      <td>2</td>\n",
       "      <td>-0.559325</td>\n",
       "      <td>0</td>\n",
       "      <td>0</td>\n",
       "      <td>0</td>\n",
       "      <td>0</td>\n",
       "    </tr>\n",
       "    <tr>\n",
       "      <th>...</th>\n",
       "      <td>...</td>\n",
       "      <td>...</td>\n",
       "      <td>...</td>\n",
       "      <td>...</td>\n",
       "      <td>...</td>\n",
       "      <td>...</td>\n",
       "      <td>...</td>\n",
       "      <td>...</td>\n",
       "      <td>...</td>\n",
       "      <td>...</td>\n",
       "    </tr>\n",
       "    <tr>\n",
       "      <th>3380</th>\n",
       "      <td>1.641364</td>\n",
       "      <td>-1.139934</td>\n",
       "      <td>1</td>\n",
       "      <td>-0.650785</td>\n",
       "      <td>2</td>\n",
       "      <td>0.188942</td>\n",
       "      <td>0</td>\n",
       "      <td>0</td>\n",
       "      <td>0</td>\n",
       "      <td>1</td>\n",
       "    </tr>\n",
       "    <tr>\n",
       "      <th>3205</th>\n",
       "      <td>1.202274</td>\n",
       "      <td>-0.774457</td>\n",
       "      <td>1</td>\n",
       "      <td>-0.310953</td>\n",
       "      <td>1</td>\n",
       "      <td>-0.559325</td>\n",
       "      <td>0</td>\n",
       "      <td>0</td>\n",
       "      <td>1</td>\n",
       "      <td>1</td>\n",
       "    </tr>\n",
       "    <tr>\n",
       "      <th>4222</th>\n",
       "      <td>0.499729</td>\n",
       "      <td>-0.344484</td>\n",
       "      <td>3</td>\n",
       "      <td>-0.707424</td>\n",
       "      <td>2</td>\n",
       "      <td>1.636250</td>\n",
       "      <td>0</td>\n",
       "      <td>0</td>\n",
       "      <td>0</td>\n",
       "      <td>0</td>\n",
       "    </tr>\n",
       "    <tr>\n",
       "      <th>1586</th>\n",
       "      <td>1.202274</td>\n",
       "      <td>-0.516473</td>\n",
       "      <td>2</td>\n",
       "      <td>0.198795</td>\n",
       "      <td>3</td>\n",
       "      <td>-0.559325</td>\n",
       "      <td>0</td>\n",
       "      <td>0</td>\n",
       "      <td>0</td>\n",
       "      <td>1</td>\n",
       "    </tr>\n",
       "    <tr>\n",
       "      <th>3625</th>\n",
       "      <td>0.148457</td>\n",
       "      <td>-0.065001</td>\n",
       "      <td>4</td>\n",
       "      <td>0.538626</td>\n",
       "      <td>1</td>\n",
       "      <td>-0.559325</td>\n",
       "      <td>0</td>\n",
       "      <td>0</td>\n",
       "      <td>1</td>\n",
       "      <td>0</td>\n",
       "    </tr>\n",
       "  </tbody>\n",
       "</table>\n",
       "<p>1000 rows × 10 columns</p>\n",
       "</div>"
      ],
      "text/plain": [
       "           Age    Income  Family     CCAvg  Education  Mortgage  \\\n",
       "3817  1.729182  1.418406       1 -0.594146          1 -0.559325   \n",
       "1618 -1.432269 -0.967945       3 -0.537508          1 -0.559325   \n",
       "3188  0.851001  0.343473       2  1.444845          3 -0.559325   \n",
       "4396 -1.344451 -1.290424       4 -0.820701          3 -0.559325   \n",
       "101   1.377910 -0.946446       3 -0.367592          2 -0.559325   \n",
       "...        ...       ...     ...       ...        ...       ...   \n",
       "3380  1.641364 -1.139934       1 -0.650785          2  0.188942   \n",
       "3205  1.202274 -0.774457       1 -0.310953          1 -0.559325   \n",
       "4222  0.499729 -0.344484       3 -0.707424          2  1.636250   \n",
       "1586  1.202274 -0.516473       2  0.198795          3 -0.559325   \n",
       "3625  0.148457 -0.065001       4  0.538626          1 -0.559325   \n",
       "\n",
       "      Securities Account  CD Account  Online  CreditCard  \n",
       "3817                   0           0       0           0  \n",
       "1618                   0           0       1           1  \n",
       "3188                   0           0       0           1  \n",
       "4396                   0           0       1           0  \n",
       "101                    0           0       0           0  \n",
       "...                  ...         ...     ...         ...  \n",
       "3380                   0           0       0           1  \n",
       "3205                   0           0       1           1  \n",
       "4222                   0           0       0           0  \n",
       "1586                   0           0       0           1  \n",
       "3625                   0           0       1           0  \n",
       "\n",
       "[1000 rows x 10 columns]"
      ]
     },
     "execution_count": 120,
     "metadata": {},
     "output_type": "execute_result"
    }
   ],
   "source": [
    "# Ensuring that the scaling has been applied to the testing data using the scaler.\n",
    "X_test"
   ]
  },
  {
   "cell_type": "markdown",
   "id": "endangered-replica",
   "metadata": {},
   "source": [
    "Using of Standard Scaler, we make our data more compliant to machine learning algorithms, ensuring better model performance and more reliable comparisons between different features."
   ]
  },
  {
   "cell_type": "markdown",
   "id": "spare-playing",
   "metadata": {},
   "source": [
    "# OverSampling (SMOTE)"
   ]
  },
  {
   "cell_type": "code",
   "execution_count": 121,
   "id": "curious-battlefield",
   "metadata": {},
   "outputs": [],
   "source": [
    "os=SMOTE(random_state=123)"
   ]
  },
  {
   "cell_type": "code",
   "execution_count": 122,
   "id": "traditional-drawing",
   "metadata": {},
   "outputs": [],
   "source": [
    "X_train_os,y_train_os=os.fit_resample(X_train,y_train)"
   ]
  },
  {
   "cell_type": "code",
   "execution_count": 123,
   "id": "roman-ecuador",
   "metadata": {},
   "outputs": [
    {
     "data": {
      "text/plain": [
       "0    3616\n",
       "1    3616\n",
       "Name: Personal Loan, dtype: int64"
      ]
     },
     "execution_count": 123,
     "metadata": {},
     "output_type": "execute_result"
    }
   ],
   "source": [
    "# Distribution of target variable after oversampling\n",
    "y_train_os.value_counts()"
   ]
  },
  {
   "cell_type": "markdown",
   "id": "threaded-feeling",
   "metadata": {},
   "source": [
    "1. Over-sampling Technique used in machine learning to address the class imbalance problem, particularly in classification tasks where one class significantly outnumbers the other.\n",
    "2. This helps balance the class distribution.\n",
    "3. I am using over sampling because,we aim to improve the model's ability to recognize and generalize patterns in the minority class, resulting in a more balanced and powerful predictive model."
   ]
  },
  {
   "cell_type": "markdown",
   "id": "broken-launch",
   "metadata": {},
   "source": [
    "# Model Fitting "
   ]
  },
  {
   "cell_type": "markdown",
   "id": "spread-leeds",
   "metadata": {},
   "source": [
    "### 1. Logistic Regression"
   ]
  },
  {
   "cell_type": "code",
   "execution_count": 124,
   "id": "adolescent-wales",
   "metadata": {},
   "outputs": [],
   "source": [
    "logi_os = LogisticRegression()"
   ]
  },
  {
   "cell_type": "code",
   "execution_count": 125,
   "id": "third-kinase",
   "metadata": {},
   "outputs": [
    {
     "data": {
      "text/plain": [
       "LogisticRegression()"
      ]
     },
     "execution_count": 125,
     "metadata": {},
     "output_type": "execute_result"
    }
   ],
   "source": [
    "logi_os.fit(X_train_os,y_train_os)"
   ]
  },
  {
   "cell_type": "code",
   "execution_count": 126,
   "id": "appropriate-orientation",
   "metadata": {},
   "outputs": [],
   "source": [
    "logi_os_pred = logi_os.predict(X_test)"
   ]
  },
  {
   "cell_type": "code",
   "execution_count": 127,
   "id": "minus-transfer",
   "metadata": {},
   "outputs": [
    {
     "data": {
      "text/plain": [
       "array([[810,  94],\n",
       "       [ 13,  83]], dtype=int64)"
      ]
     },
     "execution_count": 127,
     "metadata": {},
     "output_type": "execute_result"
    }
   ],
   "source": [
    "confusion_matrix(y_test,logi_os_pred)"
   ]
  },
  {
   "cell_type": "code",
   "execution_count": 128,
   "id": "moving-brooklyn",
   "metadata": {},
   "outputs": [
    {
     "data": {
      "text/plain": [
       "0.893"
      ]
     },
     "execution_count": 128,
     "metadata": {},
     "output_type": "execute_result"
    }
   ],
   "source": [
    "accuracy_score(y_test,logi_os_pred)"
   ]
  },
  {
   "cell_type": "code",
   "execution_count": 129,
   "id": "smooth-declaration",
   "metadata": {},
   "outputs": [
    {
     "name": "stdout",
     "output_type": "stream",
     "text": [
      "              precision    recall  f1-score   support\n",
      "\n",
      "           0       0.98      0.90      0.94       904\n",
      "           1       0.47      0.86      0.61        96\n",
      "\n",
      "    accuracy                           0.89      1000\n",
      "   macro avg       0.73      0.88      0.77      1000\n",
      "weighted avg       0.93      0.89      0.91      1000\n",
      "\n"
     ]
    }
   ],
   "source": [
    "print(classification_report(y_test,logi_os_pred))"
   ]
  },
  {
   "cell_type": "code",
   "execution_count": 130,
   "id": "hazardous-hydrogen",
   "metadata": {},
   "outputs": [
    {
     "name": "stdout",
     "output_type": "stream",
     "text": [
      "Precision score: 46.89265536723164\n",
      "Recall score: 86.45833333333334\n",
      "F1-score: 60.80586080586081\n",
      "Accuracy: 89.3\n"
     ]
    }
   ],
   "source": [
    "print('Precision score:', precision_score(y_test,logi_os_pred)*100)\n",
    "print('Recall score:', recall_score(y_test,logi_os_pred)*100)\n",
    "print('F1-score:', f1_score(y_test,logi_os_pred)*100)\n",
    "print('Accuracy:', accuracy_score(y_test,logi_os_pred)*100)"
   ]
  },
  {
   "cell_type": "markdown",
   "id": "streaming-hostel",
   "metadata": {},
   "source": [
    "### 2. Support Vector Classifier"
   ]
  },
  {
   "cell_type": "code",
   "execution_count": 131,
   "id": "hungarian-central",
   "metadata": {},
   "outputs": [],
   "source": [
    "sv_os = SVC()"
   ]
  },
  {
   "cell_type": "code",
   "execution_count": 132,
   "id": "diverse-final",
   "metadata": {},
   "outputs": [
    {
     "data": {
      "text/plain": [
       "SVC()"
      ]
     },
     "execution_count": 132,
     "metadata": {},
     "output_type": "execute_result"
    }
   ],
   "source": [
    "sv_os.fit(X_train_os,y_train_os)"
   ]
  },
  {
   "cell_type": "code",
   "execution_count": 133,
   "id": "incoming-ontario",
   "metadata": {},
   "outputs": [],
   "source": [
    "sv_os_pred = sv_os.predict(X_test)"
   ]
  },
  {
   "cell_type": "code",
   "execution_count": 134,
   "id": "legal-gravity",
   "metadata": {},
   "outputs": [
    {
     "data": {
      "text/plain": [
       "array([[872,  32],\n",
       "       [  5,  91]], dtype=int64)"
      ]
     },
     "execution_count": 134,
     "metadata": {},
     "output_type": "execute_result"
    }
   ],
   "source": [
    "confusion_matrix(y_test,sv_os_pred)"
   ]
  },
  {
   "cell_type": "code",
   "execution_count": 135,
   "id": "absolute-fifty",
   "metadata": {},
   "outputs": [
    {
     "data": {
      "text/plain": [
       "0.963"
      ]
     },
     "execution_count": 135,
     "metadata": {},
     "output_type": "execute_result"
    }
   ],
   "source": [
    "accuracy_score(y_test,sv_os_pred)"
   ]
  },
  {
   "cell_type": "code",
   "execution_count": 136,
   "id": "individual-bundle",
   "metadata": {},
   "outputs": [
    {
     "name": "stdout",
     "output_type": "stream",
     "text": [
      "              precision    recall  f1-score   support\n",
      "\n",
      "           0       0.99      0.96      0.98       904\n",
      "           1       0.74      0.95      0.83        96\n",
      "\n",
      "    accuracy                           0.96      1000\n",
      "   macro avg       0.87      0.96      0.91      1000\n",
      "weighted avg       0.97      0.96      0.97      1000\n",
      "\n"
     ]
    }
   ],
   "source": [
    "print(classification_report(y_test,sv_os_pred))"
   ]
  },
  {
   "cell_type": "code",
   "execution_count": 137,
   "id": "moral-pierre",
   "metadata": {},
   "outputs": [
    {
     "name": "stdout",
     "output_type": "stream",
     "text": [
      "Precision score: 73.98373983739837\n",
      "Recall score: 94.79166666666666\n",
      "F1-score: 83.10502283105022\n",
      "Accuracy: 96.3\n"
     ]
    }
   ],
   "source": [
    "print('Precision score:', precision_score(y_test,sv_os_pred)*100)\n",
    "print('Recall score:', recall_score(y_test,sv_os_pred)*100)\n",
    "print('F1-score:', f1_score(y_test,sv_os_pred)*100)\n",
    "print('Accuracy:', accuracy_score(y_test,sv_os_pred)*100)"
   ]
  },
  {
   "cell_type": "markdown",
   "id": "advised-lebanon",
   "metadata": {},
   "source": [
    "### 3. Naive Bayes"
   ]
  },
  {
   "cell_type": "code",
   "execution_count": 138,
   "id": "previous-essex",
   "metadata": {},
   "outputs": [],
   "source": [
    "nb_os=GaussianNB()"
   ]
  },
  {
   "cell_type": "code",
   "execution_count": 139,
   "id": "stretch-centre",
   "metadata": {},
   "outputs": [
    {
     "data": {
      "text/plain": [
       "GaussianNB()"
      ]
     },
     "execution_count": 139,
     "metadata": {},
     "output_type": "execute_result"
    }
   ],
   "source": [
    "nb_os.fit(X_train_os,y_train_os)"
   ]
  },
  {
   "cell_type": "code",
   "execution_count": 140,
   "id": "substantial-mounting",
   "metadata": {},
   "outputs": [],
   "source": [
    "nb_os_pred = nb_os.predict(X_test)"
   ]
  },
  {
   "cell_type": "code",
   "execution_count": 141,
   "id": "emotional-excitement",
   "metadata": {},
   "outputs": [
    {
     "data": {
      "text/plain": [
       "array([[805,  99],\n",
       "       [ 18,  78]], dtype=int64)"
      ]
     },
     "execution_count": 141,
     "metadata": {},
     "output_type": "execute_result"
    }
   ],
   "source": [
    "confusion_matrix(y_test,nb_os_pred)"
   ]
  },
  {
   "cell_type": "code",
   "execution_count": 142,
   "id": "removed-leone",
   "metadata": {},
   "outputs": [
    {
     "data": {
      "text/plain": [
       "0.883"
      ]
     },
     "execution_count": 142,
     "metadata": {},
     "output_type": "execute_result"
    }
   ],
   "source": [
    "accuracy_score(y_test,nb_os_pred)"
   ]
  },
  {
   "cell_type": "code",
   "execution_count": 143,
   "id": "stunning-latex",
   "metadata": {},
   "outputs": [
    {
     "name": "stdout",
     "output_type": "stream",
     "text": [
      "              precision    recall  f1-score   support\n",
      "\n",
      "           0       0.98      0.89      0.93       904\n",
      "           1       0.44      0.81      0.57        96\n",
      "\n",
      "    accuracy                           0.88      1000\n",
      "   macro avg       0.71      0.85      0.75      1000\n",
      "weighted avg       0.93      0.88      0.90      1000\n",
      "\n"
     ]
    }
   ],
   "source": [
    "print(classification_report(y_test,nb_os_pred))"
   ]
  },
  {
   "cell_type": "code",
   "execution_count": 144,
   "id": "spectacular-evening",
   "metadata": {},
   "outputs": [
    {
     "name": "stdout",
     "output_type": "stream",
     "text": [
      "Precision score: 44.06779661016949\n",
      "Recall score: 81.25\n",
      "F1-score: 57.14285714285714\n",
      "Accuracy: 88.3\n"
     ]
    }
   ],
   "source": [
    "print('Precision score:', precision_score(y_test,nb_os_pred)*100)\n",
    "print('Recall score:', recall_score(y_test,nb_os_pred)*100)\n",
    "print('F1-score:', f1_score(y_test,nb_os_pred)*100)\n",
    "print('Accuracy:', accuracy_score(y_test,nb_os_pred)*100)"
   ]
  },
  {
   "cell_type": "markdown",
   "id": "studied-envelope",
   "metadata": {},
   "source": [
    "# Accuracy Comparision"
   ]
  },
  {
   "cell_type": "code",
   "execution_count": 145,
   "id": "together-unemployment",
   "metadata": {},
   "outputs": [],
   "source": [
    "final_os_data=pd.DataFrame({'Models':['LOGI_OS','SVC_OS','NB_OS'],\n",
    "                         'Accuracy':[accuracy_score(y_test,logi_os_pred),\n",
    "                                     accuracy_score(y_test,sv_os_pred),\n",
    "                                     accuracy_score(y_test,nb_os_pred)],\n",
    "                         'precision':[precision_score(y_test,logi_os_pred),\n",
    "                                      precision_score(y_test,sv_os_pred),\n",
    "                                      precision_score(y_test,nb_os_pred)],\n",
    "                         'Recall':[recall_score(y_test,logi_os_pred),\n",
    "                                   recall_score(y_test,sv_os_pred),\n",
    "                                   recall_score(y_test,nb_os_pred)],\n",
    "                         'F1-Score':[f1_score(y_test,logi_os_pred),\n",
    "                                     f1_score(y_test,sv_os_pred),\n",
    "                                     f1_score(y_test,nb_os_pred)]})"
   ]
  },
  {
   "cell_type": "code",
   "execution_count": 146,
   "id": "primary-influence",
   "metadata": {},
   "outputs": [
    {
     "data": {
      "text/html": [
       "<div>\n",
       "<style scoped>\n",
       "    .dataframe tbody tr th:only-of-type {\n",
       "        vertical-align: middle;\n",
       "    }\n",
       "\n",
       "    .dataframe tbody tr th {\n",
       "        vertical-align: top;\n",
       "    }\n",
       "\n",
       "    .dataframe thead th {\n",
       "        text-align: right;\n",
       "    }\n",
       "</style>\n",
       "<table border=\"1\" class=\"dataframe\">\n",
       "  <thead>\n",
       "    <tr style=\"text-align: right;\">\n",
       "      <th></th>\n",
       "      <th>Models</th>\n",
       "      <th>Accuracy</th>\n",
       "      <th>precision</th>\n",
       "      <th>Recall</th>\n",
       "      <th>F1-Score</th>\n",
       "    </tr>\n",
       "  </thead>\n",
       "  <tbody>\n",
       "    <tr>\n",
       "      <th>0</th>\n",
       "      <td>LOGI_OS</td>\n",
       "      <td>0.893</td>\n",
       "      <td>0.468927</td>\n",
       "      <td>0.864583</td>\n",
       "      <td>0.608059</td>\n",
       "    </tr>\n",
       "    <tr>\n",
       "      <th>1</th>\n",
       "      <td>SVC_OS</td>\n",
       "      <td>0.963</td>\n",
       "      <td>0.739837</td>\n",
       "      <td>0.947917</td>\n",
       "      <td>0.831050</td>\n",
       "    </tr>\n",
       "    <tr>\n",
       "      <th>2</th>\n",
       "      <td>NB_OS</td>\n",
       "      <td>0.883</td>\n",
       "      <td>0.440678</td>\n",
       "      <td>0.812500</td>\n",
       "      <td>0.571429</td>\n",
       "    </tr>\n",
       "  </tbody>\n",
       "</table>\n",
       "</div>"
      ],
      "text/plain": [
       "    Models  Accuracy  precision    Recall  F1-Score\n",
       "0  LOGI_OS     0.893   0.468927  0.864583  0.608059\n",
       "1   SVC_OS     0.963   0.739837  0.947917  0.831050\n",
       "2    NB_OS     0.883   0.440678  0.812500  0.571429"
      ]
     },
     "execution_count": 146,
     "metadata": {},
     "output_type": "execute_result"
    }
   ],
   "source": [
    "final_os_data"
   ]
  },
  {
   "cell_type": "code",
   "execution_count": 147,
   "id": "blocked-contest",
   "metadata": {},
   "outputs": [
    {
     "data": {
      "text/plain": [
       "<AxesSubplot:xlabel='Models', ylabel='Accuracy'>"
      ]
     },
     "execution_count": 147,
     "metadata": {},
     "output_type": "execute_result"
    },
    {
     "data": {
      "image/png": "[encoded data removed]",
      "text/plain": [
       "<Figure size 432x288 with 1 Axes>"
      ]
     },
     "metadata": {
      "needs_background": "light"
     },
     "output_type": "display_data"
    }
   ],
   "source": [
    "sns.barplot(x = 'Models', y = 'Accuracy', data = final_os_data)"
   ]
  },
  {
   "cell_type": "markdown",
   "id": "blessed-pantyhose",
   "metadata": {},
   "source": [
    "# Conclusion"
   ]
  },
  {
   "cell_type": "markdown",
   "id": "virtual-bangladesh",
   "metadata": {},
   "source": [
    "1. In conclusion, the analysis reveals that the dataset contains a highly imbalanced target variable, with a majority of customers (4520) not taking personal loans (0) and a smaller number (480) taking loans (1). \n",
    "2. Further exploration indicates that customers with educational backgrounds in Graduation and Professional categories are more likely to take personal loans compared to those with an Undergraduate education.\n",
    "3. Family size also plays a role, with customers from families with 3 or 4 members showing a higher tendency to take personal loans. \n",
    "4. The absence of a securities account seems to be associated with a higher likelihood of taking a personal loan, while having a Certificate of Deposit (CDAccount) is positively correlated with personal loan uptake.\n",
    "5. Additionally, customers using online banking services are more inclined to have personal loans. \n",
    "6. There is a negative trend where individuals with credit cards are less likely to take out personal loans.\n",
    "7. Addressing the imbalanced target variable, the SMOTE (Synthetic Minority Over-sampling Technique) method has been employed along with standard scaling for numeric features **(age, CCavg, mortgage, income)**. Outliers are present but are not considered as error points.\n",
    "8. Among the tested algorithms **(Logistic Regression, Naive Bayes, and Support Vector Machine)**, **SVM** outperforms others across multiple metrics, including accuracy **(96.3%)**, precision **(73.99%)**, recall **(94.79%)**, and F1 score **(83.11%)**. \n",
    "9. This suggests that **SVM** is the most suitable model for **predicting personal loan** uptake in this dataset"
   ]
  },
  {
   "cell_type": "code",
   "execution_count": null,
   "id": "elder-algebra",
   "metadata": {},
   "outputs": [],
   "source": []
  }
 ],
 "metadata": {
  "kernelspec": {
   "display_name": "Python 3",
   "language": "python",
   "name": "python3"
  },
  "language_info": {
   "codemirror_mode": {
    "name": "ipython",
    "version": 3
   },
   "file_extension": ".py",
   "mimetype": "text/x-python",
   "name": "python",
   "nbconvert_exporter": "python",
   "pygments_lexer": "ipython3",
   "version": "3.7.8"
  }
 },
 "nbformat": 4,
 "nbformat_minor": 5
}
